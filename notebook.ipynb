{
  "cells": [
    {
      "cell_type": "markdown",
      "metadata": {
        "id": "H9wADwK78DCz"
      },
      "source": [
        "# Proyek Analisis Data: [Bike Sharing Dataset]\n",
        "\n",
        "---\n",
        "\n",
        "\n",
        "- **Nama:** Ni Kadek Dwi Putri Nova Andini\n",
        "- **Email:** nova.andini2411@gmail.com\n",
        "- **ID Dicoding:** MS060D5X0582"
      ]
    },
    {
      "cell_type": "markdown",
      "metadata": {
        "id": "eE0raob58DC0"
      },
      "source": [
        "## Menentukan Pertanyaan Bisnis"
      ]
    },
    {
      "cell_type": "markdown",
      "metadata": {
        "id": "GmQeQ5YF8DC0"
      },
      "source": [
        "- Bagaimana tren pengguna layanan bike rental dari tahun 2011 hingga 2012?\n",
        "- Bagaimana pengaruh cuaca terhadap jumlah pengguna layanan bike rental?"
      ]
    },
    {
      "cell_type": "markdown",
      "metadata": {
        "id": "H-z4QGlO8DC1"
      },
      "source": [
        "## Import Semua Packages/Library yang Digunakan"
      ]
    },
    {
      "cell_type": "code",
      "execution_count": 2,
      "metadata": {
        "id": "FVYwaObI8DC1"
      },
      "outputs": [],
      "source": [
        "import pandas as pd\n",
        "import matplotlib.pyplot as plt\n",
        "import seaborn as sns"
      ]
    },
    {
      "cell_type": "markdown",
      "metadata": {
        "id": "h_Sh51Xy8DC1"
      },
      "source": [
        "## Data Wrangling"
      ]
    },
    {
      "cell_type": "markdown",
      "metadata": {
        "id": "sXU2GBYu8DC1"
      },
      "source": [
        "### Gathering Data"
      ]
    },
    {
      "cell_type": "markdown",
      "metadata": {
        "id": "IXZE8H4od7o8"
      },
      "source": [
        "**Load Hour Table dan Menampilkan 5 Baris Pertama**"
      ]
    },
    {
      "cell_type": "code",
      "execution_count": 3,
      "metadata": {
        "colab": {
          "base_uri": "https://localhost:8080/",
          "height": 313
        },
        "id": "zjCBk1BI8DC1",
        "outputId": "8d2fc486-f18e-4c95-f48a-7529a9ff0b63"
      },
      "outputs": [
        {
          "data": {
            "text/html": [
              "<div>\n",
              "<style scoped>\n",
              "    .dataframe tbody tr th:only-of-type {\n",
              "        vertical-align: middle;\n",
              "    }\n",
              "\n",
              "    .dataframe tbody tr th {\n",
              "        vertical-align: top;\n",
              "    }\n",
              "\n",
              "    .dataframe thead th {\n",
              "        text-align: right;\n",
              "    }\n",
              "</style>\n",
              "<table border=\"1\" class=\"dataframe\">\n",
              "  <thead>\n",
              "    <tr style=\"text-align: right;\">\n",
              "      <th></th>\n",
              "      <th>instant</th>\n",
              "      <th>dteday</th>\n",
              "      <th>season</th>\n",
              "      <th>yr</th>\n",
              "      <th>mnth</th>\n",
              "      <th>hr</th>\n",
              "      <th>holiday</th>\n",
              "      <th>weekday</th>\n",
              "      <th>workingday</th>\n",
              "      <th>weathersit</th>\n",
              "      <th>temp</th>\n",
              "      <th>atemp</th>\n",
              "      <th>hum</th>\n",
              "      <th>windspeed</th>\n",
              "      <th>casual</th>\n",
              "      <th>registered</th>\n",
              "      <th>cnt</th>\n",
              "    </tr>\n",
              "  </thead>\n",
              "  <tbody>\n",
              "    <tr>\n",
              "      <th>0</th>\n",
              "      <td>1</td>\n",
              "      <td>2011-01-01</td>\n",
              "      <td>1</td>\n",
              "      <td>0</td>\n",
              "      <td>1</td>\n",
              "      <td>0</td>\n",
              "      <td>0</td>\n",
              "      <td>6</td>\n",
              "      <td>0</td>\n",
              "      <td>1</td>\n",
              "      <td>0.24</td>\n",
              "      <td>0.2879</td>\n",
              "      <td>0.81</td>\n",
              "      <td>0.0</td>\n",
              "      <td>3</td>\n",
              "      <td>13</td>\n",
              "      <td>16</td>\n",
              "    </tr>\n",
              "    <tr>\n",
              "      <th>1</th>\n",
              "      <td>2</td>\n",
              "      <td>2011-01-01</td>\n",
              "      <td>1</td>\n",
              "      <td>0</td>\n",
              "      <td>1</td>\n",
              "      <td>1</td>\n",
              "      <td>0</td>\n",
              "      <td>6</td>\n",
              "      <td>0</td>\n",
              "      <td>1</td>\n",
              "      <td>0.22</td>\n",
              "      <td>0.2727</td>\n",
              "      <td>0.80</td>\n",
              "      <td>0.0</td>\n",
              "      <td>8</td>\n",
              "      <td>32</td>\n",
              "      <td>40</td>\n",
              "    </tr>\n",
              "    <tr>\n",
              "      <th>2</th>\n",
              "      <td>3</td>\n",
              "      <td>2011-01-01</td>\n",
              "      <td>1</td>\n",
              "      <td>0</td>\n",
              "      <td>1</td>\n",
              "      <td>2</td>\n",
              "      <td>0</td>\n",
              "      <td>6</td>\n",
              "      <td>0</td>\n",
              "      <td>1</td>\n",
              "      <td>0.22</td>\n",
              "      <td>0.2727</td>\n",
              "      <td>0.80</td>\n",
              "      <td>0.0</td>\n",
              "      <td>5</td>\n",
              "      <td>27</td>\n",
              "      <td>32</td>\n",
              "    </tr>\n",
              "    <tr>\n",
              "      <th>3</th>\n",
              "      <td>4</td>\n",
              "      <td>2011-01-01</td>\n",
              "      <td>1</td>\n",
              "      <td>0</td>\n",
              "      <td>1</td>\n",
              "      <td>3</td>\n",
              "      <td>0</td>\n",
              "      <td>6</td>\n",
              "      <td>0</td>\n",
              "      <td>1</td>\n",
              "      <td>0.24</td>\n",
              "      <td>0.2879</td>\n",
              "      <td>0.75</td>\n",
              "      <td>0.0</td>\n",
              "      <td>3</td>\n",
              "      <td>10</td>\n",
              "      <td>13</td>\n",
              "    </tr>\n",
              "    <tr>\n",
              "      <th>4</th>\n",
              "      <td>5</td>\n",
              "      <td>2011-01-01</td>\n",
              "      <td>1</td>\n",
              "      <td>0</td>\n",
              "      <td>1</td>\n",
              "      <td>4</td>\n",
              "      <td>0</td>\n",
              "      <td>6</td>\n",
              "      <td>0</td>\n",
              "      <td>1</td>\n",
              "      <td>0.24</td>\n",
              "      <td>0.2879</td>\n",
              "      <td>0.75</td>\n",
              "      <td>0.0</td>\n",
              "      <td>0</td>\n",
              "      <td>1</td>\n",
              "      <td>1</td>\n",
              "    </tr>\n",
              "  </tbody>\n",
              "</table>\n",
              "</div>"
            ],
            "text/plain": [
              "   instant      dteday  season  yr  mnth  hr  holiday  weekday  workingday  \\\n",
              "0        1  2011-01-01       1   0     1   0        0        6           0   \n",
              "1        2  2011-01-01       1   0     1   1        0        6           0   \n",
              "2        3  2011-01-01       1   0     1   2        0        6           0   \n",
              "3        4  2011-01-01       1   0     1   3        0        6           0   \n",
              "4        5  2011-01-01       1   0     1   4        0        6           0   \n",
              "\n",
              "   weathersit  temp   atemp   hum  windspeed  casual  registered  cnt  \n",
              "0           1  0.24  0.2879  0.81        0.0       3          13   16  \n",
              "1           1  0.22  0.2727  0.80        0.0       8          32   40  \n",
              "2           1  0.22  0.2727  0.80        0.0       5          27   32  \n",
              "3           1  0.24  0.2879  0.75        0.0       3          10   13  \n",
              "4           1  0.24  0.2879  0.75        0.0       0           1    1  "
            ]
          },
          "execution_count": 3,
          "metadata": {},
          "output_type": "execute_result"
        }
      ],
      "source": [
        "hour_df = pd.read_csv(\"data/hour.csv\", delimiter=\",\")\n",
        "hour_df.head()"
      ]
    },
    {
      "cell_type": "markdown",
      "metadata": {
        "id": "abLDPzT9e0aU"
      },
      "source": [
        "**Load Day Table dan Menampilkan 5 Baris Pertama**"
      ]
    },
    {
      "cell_type": "code",
      "execution_count": 4,
      "metadata": {
        "colab": {
          "base_uri": "https://localhost:8080/",
          "height": 313
        },
        "id": "jx-qYVnzdQvd",
        "outputId": "fdc907ea-b932-4eaf-913c-f2e8e4c31e0c"
      },
      "outputs": [
        {
          "data": {
            "text/html": [
              "<div>\n",
              "<style scoped>\n",
              "    .dataframe tbody tr th:only-of-type {\n",
              "        vertical-align: middle;\n",
              "    }\n",
              "\n",
              "    .dataframe tbody tr th {\n",
              "        vertical-align: top;\n",
              "    }\n",
              "\n",
              "    .dataframe thead th {\n",
              "        text-align: right;\n",
              "    }\n",
              "</style>\n",
              "<table border=\"1\" class=\"dataframe\">\n",
              "  <thead>\n",
              "    <tr style=\"text-align: right;\">\n",
              "      <th></th>\n",
              "      <th>instant</th>\n",
              "      <th>dteday</th>\n",
              "      <th>season</th>\n",
              "      <th>yr</th>\n",
              "      <th>mnth</th>\n",
              "      <th>holiday</th>\n",
              "      <th>weekday</th>\n",
              "      <th>workingday</th>\n",
              "      <th>weathersit</th>\n",
              "      <th>temp</th>\n",
              "      <th>atemp</th>\n",
              "      <th>hum</th>\n",
              "      <th>windspeed</th>\n",
              "      <th>casual</th>\n",
              "      <th>registered</th>\n",
              "      <th>cnt</th>\n",
              "    </tr>\n",
              "  </thead>\n",
              "  <tbody>\n",
              "    <tr>\n",
              "      <th>0</th>\n",
              "      <td>1</td>\n",
              "      <td>2011-01-01</td>\n",
              "      <td>1</td>\n",
              "      <td>0</td>\n",
              "      <td>1</td>\n",
              "      <td>0</td>\n",
              "      <td>6</td>\n",
              "      <td>0</td>\n",
              "      <td>2</td>\n",
              "      <td>0.344167</td>\n",
              "      <td>0.363625</td>\n",
              "      <td>0.805833</td>\n",
              "      <td>0.160446</td>\n",
              "      <td>331</td>\n",
              "      <td>654</td>\n",
              "      <td>985</td>\n",
              "    </tr>\n",
              "    <tr>\n",
              "      <th>1</th>\n",
              "      <td>2</td>\n",
              "      <td>2011-01-02</td>\n",
              "      <td>1</td>\n",
              "      <td>0</td>\n",
              "      <td>1</td>\n",
              "      <td>0</td>\n",
              "      <td>0</td>\n",
              "      <td>0</td>\n",
              "      <td>2</td>\n",
              "      <td>0.363478</td>\n",
              "      <td>0.353739</td>\n",
              "      <td>0.696087</td>\n",
              "      <td>0.248539</td>\n",
              "      <td>131</td>\n",
              "      <td>670</td>\n",
              "      <td>801</td>\n",
              "    </tr>\n",
              "    <tr>\n",
              "      <th>2</th>\n",
              "      <td>3</td>\n",
              "      <td>2011-01-03</td>\n",
              "      <td>1</td>\n",
              "      <td>0</td>\n",
              "      <td>1</td>\n",
              "      <td>0</td>\n",
              "      <td>1</td>\n",
              "      <td>1</td>\n",
              "      <td>1</td>\n",
              "      <td>0.196364</td>\n",
              "      <td>0.189405</td>\n",
              "      <td>0.437273</td>\n",
              "      <td>0.248309</td>\n",
              "      <td>120</td>\n",
              "      <td>1229</td>\n",
              "      <td>1349</td>\n",
              "    </tr>\n",
              "    <tr>\n",
              "      <th>3</th>\n",
              "      <td>4</td>\n",
              "      <td>2011-01-04</td>\n",
              "      <td>1</td>\n",
              "      <td>0</td>\n",
              "      <td>1</td>\n",
              "      <td>0</td>\n",
              "      <td>2</td>\n",
              "      <td>1</td>\n",
              "      <td>1</td>\n",
              "      <td>0.200000</td>\n",
              "      <td>0.212122</td>\n",
              "      <td>0.590435</td>\n",
              "      <td>0.160296</td>\n",
              "      <td>108</td>\n",
              "      <td>1454</td>\n",
              "      <td>1562</td>\n",
              "    </tr>\n",
              "    <tr>\n",
              "      <th>4</th>\n",
              "      <td>5</td>\n",
              "      <td>2011-01-05</td>\n",
              "      <td>1</td>\n",
              "      <td>0</td>\n",
              "      <td>1</td>\n",
              "      <td>0</td>\n",
              "      <td>3</td>\n",
              "      <td>1</td>\n",
              "      <td>1</td>\n",
              "      <td>0.226957</td>\n",
              "      <td>0.229270</td>\n",
              "      <td>0.436957</td>\n",
              "      <td>0.186900</td>\n",
              "      <td>82</td>\n",
              "      <td>1518</td>\n",
              "      <td>1600</td>\n",
              "    </tr>\n",
              "  </tbody>\n",
              "</table>\n",
              "</div>"
            ],
            "text/plain": [
              "   instant      dteday  season  yr  mnth  holiday  weekday  workingday  \\\n",
              "0        1  2011-01-01       1   0     1        0        6           0   \n",
              "1        2  2011-01-02       1   0     1        0        0           0   \n",
              "2        3  2011-01-03       1   0     1        0        1           1   \n",
              "3        4  2011-01-04       1   0     1        0        2           1   \n",
              "4        5  2011-01-05       1   0     1        0        3           1   \n",
              "\n",
              "   weathersit      temp     atemp       hum  windspeed  casual  registered  \\\n",
              "0           2  0.344167  0.363625  0.805833   0.160446     331         654   \n",
              "1           2  0.363478  0.353739  0.696087   0.248539     131         670   \n",
              "2           1  0.196364  0.189405  0.437273   0.248309     120        1229   \n",
              "3           1  0.200000  0.212122  0.590435   0.160296     108        1454   \n",
              "4           1  0.226957  0.229270  0.436957   0.186900      82        1518   \n",
              "\n",
              "    cnt  \n",
              "0   985  \n",
              "1   801  \n",
              "2  1349  \n",
              "3  1562  \n",
              "4  1600  "
            ]
          },
          "execution_count": 4,
          "metadata": {},
          "output_type": "execute_result"
        }
      ],
      "source": [
        "day_df = pd.read_csv(\"data/day.csv\")\n",
        "day_df.head()"
      ]
    },
    {
      "cell_type": "markdown",
      "metadata": {
        "id": "MMi6xGaDkbCi"
      },
      "source": [
        "**Insight:**\n",
        "- Dapat kita lihat bahwa kedua tabel memiliki data-data relevan mengenai layanan Bike Sharing yang telah dikonversi ke dalam format angka\n",
        "- Dapat kita lihat bahwa kedua tabel memiliki kolom yang sama, kecuali kolom hr (hour) yang tidak dimiliki oleh tabel Day"
      ]
    },
    {
      "cell_type": "markdown",
      "metadata": {
        "id": "FHSiqaZp8DC1"
      },
      "source": [
        "### Assessing Data"
      ]
    },
    {
      "cell_type": "markdown",
      "metadata": {
        "id": "-d9wOPpprFQu"
      },
      "source": [
        "**Memeriksa tipe data dari tiap kolom yang terdapat dalam tabel Hour dan Day**"
      ]
    },
    {
      "cell_type": "code",
      "execution_count": 5,
      "metadata": {
        "colab": {
          "base_uri": "https://localhost:8080/"
        },
        "id": "ECa86JSOdo7P",
        "outputId": "a557758e-bf9a-493a-fd1f-08aa65ebb76d"
      },
      "outputs": [
        {
          "name": "stdout",
          "output_type": "stream",
          "text": [
            "<class 'pandas.core.frame.DataFrame'>\n",
            "RangeIndex: 17379 entries, 0 to 17378\n",
            "Data columns (total 17 columns):\n",
            " #   Column      Non-Null Count  Dtype  \n",
            "---  ------      --------------  -----  \n",
            " 0   instant     17379 non-null  int64  \n",
            " 1   dteday      17379 non-null  object \n",
            " 2   season      17379 non-null  int64  \n",
            " 3   yr          17379 non-null  int64  \n",
            " 4   mnth        17379 non-null  int64  \n",
            " 5   hr          17379 non-null  int64  \n",
            " 6   holiday     17379 non-null  int64  \n",
            " 7   weekday     17379 non-null  int64  \n",
            " 8   workingday  17379 non-null  int64  \n",
            " 9   weathersit  17379 non-null  int64  \n",
            " 10  temp        17379 non-null  float64\n",
            " 11  atemp       17379 non-null  float64\n",
            " 12  hum         17379 non-null  float64\n",
            " 13  windspeed   17379 non-null  float64\n",
            " 14  casual      17379 non-null  int64  \n",
            " 15  registered  17379 non-null  int64  \n",
            " 16  cnt         17379 non-null  int64  \n",
            "dtypes: float64(4), int64(12), object(1)\n",
            "memory usage: 2.3+ MB\n"
          ]
        }
      ],
      "source": [
        "hour_df.info()\n",
        "# Bisa kita lihat bahwa terdapat kesalahan datatype pada kolom dteday\n",
        "# seharusnya kolom dteday memiliki tipe data datetime"
      ]
    },
    {
      "cell_type": "code",
      "execution_count": 6,
      "metadata": {
        "colab": {
          "base_uri": "https://localhost:8080/"
        },
        "id": "ax-3tEjc9Cj1",
        "outputId": "75be33a1-b564-48a6-c648-23fdf01658db"
      },
      "outputs": [
        {
          "name": "stdout",
          "output_type": "stream",
          "text": [
            "<class 'pandas.core.frame.DataFrame'>\n",
            "RangeIndex: 731 entries, 0 to 730\n",
            "Data columns (total 16 columns):\n",
            " #   Column      Non-Null Count  Dtype  \n",
            "---  ------      --------------  -----  \n",
            " 0   instant     731 non-null    int64  \n",
            " 1   dteday      731 non-null    object \n",
            " 2   season      731 non-null    int64  \n",
            " 3   yr          731 non-null    int64  \n",
            " 4   mnth        731 non-null    int64  \n",
            " 5   holiday     731 non-null    int64  \n",
            " 6   weekday     731 non-null    int64  \n",
            " 7   workingday  731 non-null    int64  \n",
            " 8   weathersit  731 non-null    int64  \n",
            " 9   temp        731 non-null    float64\n",
            " 10  atemp       731 non-null    float64\n",
            " 11  hum         731 non-null    float64\n",
            " 12  windspeed   731 non-null    float64\n",
            " 13  casual      731 non-null    int64  \n",
            " 14  registered  731 non-null    int64  \n",
            " 15  cnt         731 non-null    int64  \n",
            "dtypes: float64(4), int64(11), object(1)\n",
            "memory usage: 91.5+ KB\n"
          ]
        }
      ],
      "source": [
        "day_df.info()\n",
        "# Bisa kita lihat bahwa terdapat kesalahan datatype pada kolom dteday\n",
        "# seharusnya kolom dteday memiliki tipe data datetime"
      ]
    },
    {
      "cell_type": "markdown",
      "metadata": {
        "id": "VINFnfNfrst6"
      },
      "source": [
        "**Memeriksa adanya nilai yang hilang dari sebuah data pada tabel Hour dan Day**"
      ]
    },
    {
      "cell_type": "code",
      "execution_count": 7,
      "metadata": {
        "colab": {
          "base_uri": "https://localhost:8080/",
          "height": 617
        },
        "id": "7CcZV1-FgoQc",
        "outputId": "6420b4cf-5f79-4e29-f10d-f45fd199e9da"
      },
      "outputs": [
        {
          "data": {
            "text/plain": [
              "instant       0\n",
              "dteday        0\n",
              "season        0\n",
              "yr            0\n",
              "mnth          0\n",
              "hr            0\n",
              "holiday       0\n",
              "weekday       0\n",
              "workingday    0\n",
              "weathersit    0\n",
              "temp          0\n",
              "atemp         0\n",
              "hum           0\n",
              "windspeed     0\n",
              "casual        0\n",
              "registered    0\n",
              "cnt           0\n",
              "dtype: int64"
            ]
          },
          "execution_count": 7,
          "metadata": {},
          "output_type": "execute_result"
        }
      ],
      "source": [
        "hour_df.isna().sum()\n",
        "# Bisa kita lihat bahwa tidak terdapat missing value pada tabel Hour"
      ]
    },
    {
      "cell_type": "code",
      "execution_count": 8,
      "metadata": {
        "colab": {
          "base_uri": "https://localhost:8080/",
          "height": 586
        },
        "id": "NuIRwfTihATR",
        "outputId": "3add6c6c-127f-4487-9a0b-3567c6dedd8f"
      },
      "outputs": [
        {
          "data": {
            "text/plain": [
              "instant       0\n",
              "dteday        0\n",
              "season        0\n",
              "yr            0\n",
              "mnth          0\n",
              "holiday       0\n",
              "weekday       0\n",
              "workingday    0\n",
              "weathersit    0\n",
              "temp          0\n",
              "atemp         0\n",
              "hum           0\n",
              "windspeed     0\n",
              "casual        0\n",
              "registered    0\n",
              "cnt           0\n",
              "dtype: int64"
            ]
          },
          "execution_count": 8,
          "metadata": {},
          "output_type": "execute_result"
        }
      ],
      "source": [
        "day_df.isna().sum()\n",
        "# Bisa kita lihat bahwa tidak terdapat missing value pada tabel Day"
      ]
    },
    {
      "cell_type": "markdown",
      "metadata": {
        "id": "C91Wk7UgtSJ9"
      },
      "source": [
        "**Memeriksa adanya duplikasi data pada tabel Hour dan Day**"
      ]
    },
    {
      "cell_type": "code",
      "execution_count": 9,
      "metadata": {
        "colab": {
          "base_uri": "https://localhost:8080/"
        },
        "id": "D_L9S_-HhSBg",
        "outputId": "3f67ab96-ab61-41e2-b245-fb142d5d2e5d"
      },
      "outputs": [
        {
          "name": "stdout",
          "output_type": "stream",
          "text": [
            "Jumlah duplikasi:  0\n"
          ]
        }
      ],
      "source": [
        "print(\"Jumlah duplikasi: \", hour_df.duplicated().sum())\n",
        "# Bisa kita lihat bahwa tidak terdapat duplikasi data pada tabel Hour"
      ]
    },
    {
      "cell_type": "code",
      "execution_count": 33,
      "metadata": {
        "colab": {
          "base_uri": "https://localhost:8080/"
        },
        "id": "IBsCj4Fahg0d",
        "outputId": "e8fd6f37-8029-40ce-e60c-017bcde3fda0"
      },
      "outputs": [
        {
          "name": "stdout",
          "output_type": "stream",
          "text": [
            "Jumlah duplikasi:  0\n"
          ]
        }
      ],
      "source": [
        "print(\"Jumlah duplikasi: \", day_df.duplicated().sum())\n",
        "# Bisa kita lihat bahwa tidak terdapat duplikasi data pada tabel Day"
      ]
    },
    {
      "cell_type": "markdown",
      "metadata": {
        "id": "CO_4mFSytYMs"
      },
      "source": [
        "**Memeriksa adanya kejanggalan pada ringkasan parameter statistik dari tabel Hour dan Day**"
      ]
    },
    {
      "cell_type": "code",
      "execution_count": 11,
      "metadata": {
        "colab": {
          "base_uri": "https://localhost:8080/",
          "height": 320
        },
        "id": "tEbEi2MGiCgw",
        "outputId": "138466b0-9678-490f-a436-3f6753036092"
      },
      "outputs": [
        {
          "data": {
            "text/html": [
              "<div>\n",
              "<style scoped>\n",
              "    .dataframe tbody tr th:only-of-type {\n",
              "        vertical-align: middle;\n",
              "    }\n",
              "\n",
              "    .dataframe tbody tr th {\n",
              "        vertical-align: top;\n",
              "    }\n",
              "\n",
              "    .dataframe thead th {\n",
              "        text-align: right;\n",
              "    }\n",
              "</style>\n",
              "<table border=\"1\" class=\"dataframe\">\n",
              "  <thead>\n",
              "    <tr style=\"text-align: right;\">\n",
              "      <th></th>\n",
              "      <th>instant</th>\n",
              "      <th>season</th>\n",
              "      <th>yr</th>\n",
              "      <th>mnth</th>\n",
              "      <th>hr</th>\n",
              "      <th>holiday</th>\n",
              "      <th>weekday</th>\n",
              "      <th>workingday</th>\n",
              "      <th>weathersit</th>\n",
              "      <th>temp</th>\n",
              "      <th>atemp</th>\n",
              "      <th>hum</th>\n",
              "      <th>windspeed</th>\n",
              "      <th>casual</th>\n",
              "      <th>registered</th>\n",
              "      <th>cnt</th>\n",
              "    </tr>\n",
              "  </thead>\n",
              "  <tbody>\n",
              "    <tr>\n",
              "      <th>count</th>\n",
              "      <td>17379.0000</td>\n",
              "      <td>17379.000000</td>\n",
              "      <td>17379.000000</td>\n",
              "      <td>17379.000000</td>\n",
              "      <td>17379.000000</td>\n",
              "      <td>17379.000000</td>\n",
              "      <td>17379.000000</td>\n",
              "      <td>17379.000000</td>\n",
              "      <td>17379.000000</td>\n",
              "      <td>17379.000000</td>\n",
              "      <td>17379.000000</td>\n",
              "      <td>17379.000000</td>\n",
              "      <td>17379.000000</td>\n",
              "      <td>17379.000000</td>\n",
              "      <td>17379.000000</td>\n",
              "      <td>17379.000000</td>\n",
              "    </tr>\n",
              "    <tr>\n",
              "      <th>mean</th>\n",
              "      <td>8690.0000</td>\n",
              "      <td>2.501640</td>\n",
              "      <td>0.502561</td>\n",
              "      <td>6.537775</td>\n",
              "      <td>11.546752</td>\n",
              "      <td>0.028770</td>\n",
              "      <td>3.003683</td>\n",
              "      <td>0.682721</td>\n",
              "      <td>1.425283</td>\n",
              "      <td>0.496987</td>\n",
              "      <td>0.475775</td>\n",
              "      <td>0.627229</td>\n",
              "      <td>0.190098</td>\n",
              "      <td>35.676218</td>\n",
              "      <td>153.786869</td>\n",
              "      <td>189.463088</td>\n",
              "    </tr>\n",
              "    <tr>\n",
              "      <th>std</th>\n",
              "      <td>5017.0295</td>\n",
              "      <td>1.106918</td>\n",
              "      <td>0.500008</td>\n",
              "      <td>3.438776</td>\n",
              "      <td>6.914405</td>\n",
              "      <td>0.167165</td>\n",
              "      <td>2.005771</td>\n",
              "      <td>0.465431</td>\n",
              "      <td>0.639357</td>\n",
              "      <td>0.192556</td>\n",
              "      <td>0.171850</td>\n",
              "      <td>0.192930</td>\n",
              "      <td>0.122340</td>\n",
              "      <td>49.305030</td>\n",
              "      <td>151.357286</td>\n",
              "      <td>181.387599</td>\n",
              "    </tr>\n",
              "    <tr>\n",
              "      <th>min</th>\n",
              "      <td>1.0000</td>\n",
              "      <td>1.000000</td>\n",
              "      <td>0.000000</td>\n",
              "      <td>1.000000</td>\n",
              "      <td>0.000000</td>\n",
              "      <td>0.000000</td>\n",
              "      <td>0.000000</td>\n",
              "      <td>0.000000</td>\n",
              "      <td>1.000000</td>\n",
              "      <td>0.020000</td>\n",
              "      <td>0.000000</td>\n",
              "      <td>0.000000</td>\n",
              "      <td>0.000000</td>\n",
              "      <td>0.000000</td>\n",
              "      <td>0.000000</td>\n",
              "      <td>1.000000</td>\n",
              "    </tr>\n",
              "    <tr>\n",
              "      <th>25%</th>\n",
              "      <td>4345.5000</td>\n",
              "      <td>2.000000</td>\n",
              "      <td>0.000000</td>\n",
              "      <td>4.000000</td>\n",
              "      <td>6.000000</td>\n",
              "      <td>0.000000</td>\n",
              "      <td>1.000000</td>\n",
              "      <td>0.000000</td>\n",
              "      <td>1.000000</td>\n",
              "      <td>0.340000</td>\n",
              "      <td>0.333300</td>\n",
              "      <td>0.480000</td>\n",
              "      <td>0.104500</td>\n",
              "      <td>4.000000</td>\n",
              "      <td>34.000000</td>\n",
              "      <td>40.000000</td>\n",
              "    </tr>\n",
              "    <tr>\n",
              "      <th>50%</th>\n",
              "      <td>8690.0000</td>\n",
              "      <td>3.000000</td>\n",
              "      <td>1.000000</td>\n",
              "      <td>7.000000</td>\n",
              "      <td>12.000000</td>\n",
              "      <td>0.000000</td>\n",
              "      <td>3.000000</td>\n",
              "      <td>1.000000</td>\n",
              "      <td>1.000000</td>\n",
              "      <td>0.500000</td>\n",
              "      <td>0.484800</td>\n",
              "      <td>0.630000</td>\n",
              "      <td>0.194000</td>\n",
              "      <td>17.000000</td>\n",
              "      <td>115.000000</td>\n",
              "      <td>142.000000</td>\n",
              "    </tr>\n",
              "    <tr>\n",
              "      <th>75%</th>\n",
              "      <td>13034.5000</td>\n",
              "      <td>3.000000</td>\n",
              "      <td>1.000000</td>\n",
              "      <td>10.000000</td>\n",
              "      <td>18.000000</td>\n",
              "      <td>0.000000</td>\n",
              "      <td>5.000000</td>\n",
              "      <td>1.000000</td>\n",
              "      <td>2.000000</td>\n",
              "      <td>0.660000</td>\n",
              "      <td>0.621200</td>\n",
              "      <td>0.780000</td>\n",
              "      <td>0.253700</td>\n",
              "      <td>48.000000</td>\n",
              "      <td>220.000000</td>\n",
              "      <td>281.000000</td>\n",
              "    </tr>\n",
              "    <tr>\n",
              "      <th>max</th>\n",
              "      <td>17379.0000</td>\n",
              "      <td>4.000000</td>\n",
              "      <td>1.000000</td>\n",
              "      <td>12.000000</td>\n",
              "      <td>23.000000</td>\n",
              "      <td>1.000000</td>\n",
              "      <td>6.000000</td>\n",
              "      <td>1.000000</td>\n",
              "      <td>4.000000</td>\n",
              "      <td>1.000000</td>\n",
              "      <td>1.000000</td>\n",
              "      <td>1.000000</td>\n",
              "      <td>0.850700</td>\n",
              "      <td>367.000000</td>\n",
              "      <td>886.000000</td>\n",
              "      <td>977.000000</td>\n",
              "    </tr>\n",
              "  </tbody>\n",
              "</table>\n",
              "</div>"
            ],
            "text/plain": [
              "          instant        season            yr          mnth            hr  \\\n",
              "count  17379.0000  17379.000000  17379.000000  17379.000000  17379.000000   \n",
              "mean    8690.0000      2.501640      0.502561      6.537775     11.546752   \n",
              "std     5017.0295      1.106918      0.500008      3.438776      6.914405   \n",
              "min        1.0000      1.000000      0.000000      1.000000      0.000000   \n",
              "25%     4345.5000      2.000000      0.000000      4.000000      6.000000   \n",
              "50%     8690.0000      3.000000      1.000000      7.000000     12.000000   \n",
              "75%    13034.5000      3.000000      1.000000     10.000000     18.000000   \n",
              "max    17379.0000      4.000000      1.000000     12.000000     23.000000   \n",
              "\n",
              "            holiday       weekday    workingday    weathersit          temp  \\\n",
              "count  17379.000000  17379.000000  17379.000000  17379.000000  17379.000000   \n",
              "mean       0.028770      3.003683      0.682721      1.425283      0.496987   \n",
              "std        0.167165      2.005771      0.465431      0.639357      0.192556   \n",
              "min        0.000000      0.000000      0.000000      1.000000      0.020000   \n",
              "25%        0.000000      1.000000      0.000000      1.000000      0.340000   \n",
              "50%        0.000000      3.000000      1.000000      1.000000      0.500000   \n",
              "75%        0.000000      5.000000      1.000000      2.000000      0.660000   \n",
              "max        1.000000      6.000000      1.000000      4.000000      1.000000   \n",
              "\n",
              "              atemp           hum     windspeed        casual    registered  \\\n",
              "count  17379.000000  17379.000000  17379.000000  17379.000000  17379.000000   \n",
              "mean       0.475775      0.627229      0.190098     35.676218    153.786869   \n",
              "std        0.171850      0.192930      0.122340     49.305030    151.357286   \n",
              "min        0.000000      0.000000      0.000000      0.000000      0.000000   \n",
              "25%        0.333300      0.480000      0.104500      4.000000     34.000000   \n",
              "50%        0.484800      0.630000      0.194000     17.000000    115.000000   \n",
              "75%        0.621200      0.780000      0.253700     48.000000    220.000000   \n",
              "max        1.000000      1.000000      0.850700    367.000000    886.000000   \n",
              "\n",
              "                cnt  \n",
              "count  17379.000000  \n",
              "mean     189.463088  \n",
              "std      181.387599  \n",
              "min        1.000000  \n",
              "25%       40.000000  \n",
              "50%      142.000000  \n",
              "75%      281.000000  \n",
              "max      977.000000  "
            ]
          },
          "execution_count": 11,
          "metadata": {},
          "output_type": "execute_result"
        }
      ],
      "source": [
        "hour_df.describe()\n",
        "# Bisa kita lihat bahwa tidak terdapat kejanggalan ringkasan parameter statistik dari tabel Hour"
      ]
    },
    {
      "cell_type": "code",
      "execution_count": 12,
      "metadata": {
        "colab": {
          "base_uri": "https://localhost:8080/",
          "height": 320
        },
        "id": "fu8PNKuSilnT",
        "outputId": "cfd78e7f-a427-4eea-d182-2cfe38cc68f2"
      },
      "outputs": [
        {
          "data": {
            "text/html": [
              "<div>\n",
              "<style scoped>\n",
              "    .dataframe tbody tr th:only-of-type {\n",
              "        vertical-align: middle;\n",
              "    }\n",
              "\n",
              "    .dataframe tbody tr th {\n",
              "        vertical-align: top;\n",
              "    }\n",
              "\n",
              "    .dataframe thead th {\n",
              "        text-align: right;\n",
              "    }\n",
              "</style>\n",
              "<table border=\"1\" class=\"dataframe\">\n",
              "  <thead>\n",
              "    <tr style=\"text-align: right;\">\n",
              "      <th></th>\n",
              "      <th>instant</th>\n",
              "      <th>season</th>\n",
              "      <th>yr</th>\n",
              "      <th>mnth</th>\n",
              "      <th>holiday</th>\n",
              "      <th>weekday</th>\n",
              "      <th>workingday</th>\n",
              "      <th>weathersit</th>\n",
              "      <th>temp</th>\n",
              "      <th>atemp</th>\n",
              "      <th>hum</th>\n",
              "      <th>windspeed</th>\n",
              "      <th>casual</th>\n",
              "      <th>registered</th>\n",
              "      <th>cnt</th>\n",
              "    </tr>\n",
              "  </thead>\n",
              "  <tbody>\n",
              "    <tr>\n",
              "      <th>count</th>\n",
              "      <td>731.000000</td>\n",
              "      <td>731.000000</td>\n",
              "      <td>731.000000</td>\n",
              "      <td>731.000000</td>\n",
              "      <td>731.000000</td>\n",
              "      <td>731.000000</td>\n",
              "      <td>731.000000</td>\n",
              "      <td>731.000000</td>\n",
              "      <td>731.000000</td>\n",
              "      <td>731.000000</td>\n",
              "      <td>731.000000</td>\n",
              "      <td>731.000000</td>\n",
              "      <td>731.000000</td>\n",
              "      <td>731.000000</td>\n",
              "      <td>731.000000</td>\n",
              "    </tr>\n",
              "    <tr>\n",
              "      <th>mean</th>\n",
              "      <td>366.000000</td>\n",
              "      <td>2.496580</td>\n",
              "      <td>0.500684</td>\n",
              "      <td>6.519836</td>\n",
              "      <td>0.028728</td>\n",
              "      <td>2.997264</td>\n",
              "      <td>0.683995</td>\n",
              "      <td>1.395349</td>\n",
              "      <td>0.495385</td>\n",
              "      <td>0.474354</td>\n",
              "      <td>0.627894</td>\n",
              "      <td>0.190486</td>\n",
              "      <td>848.176471</td>\n",
              "      <td>3656.172367</td>\n",
              "      <td>4504.348837</td>\n",
              "    </tr>\n",
              "    <tr>\n",
              "      <th>std</th>\n",
              "      <td>211.165812</td>\n",
              "      <td>1.110807</td>\n",
              "      <td>0.500342</td>\n",
              "      <td>3.451913</td>\n",
              "      <td>0.167155</td>\n",
              "      <td>2.004787</td>\n",
              "      <td>0.465233</td>\n",
              "      <td>0.544894</td>\n",
              "      <td>0.183051</td>\n",
              "      <td>0.162961</td>\n",
              "      <td>0.142429</td>\n",
              "      <td>0.077498</td>\n",
              "      <td>686.622488</td>\n",
              "      <td>1560.256377</td>\n",
              "      <td>1937.211452</td>\n",
              "    </tr>\n",
              "    <tr>\n",
              "      <th>min</th>\n",
              "      <td>1.000000</td>\n",
              "      <td>1.000000</td>\n",
              "      <td>0.000000</td>\n",
              "      <td>1.000000</td>\n",
              "      <td>0.000000</td>\n",
              "      <td>0.000000</td>\n",
              "      <td>0.000000</td>\n",
              "      <td>1.000000</td>\n",
              "      <td>0.059130</td>\n",
              "      <td>0.079070</td>\n",
              "      <td>0.000000</td>\n",
              "      <td>0.022392</td>\n",
              "      <td>2.000000</td>\n",
              "      <td>20.000000</td>\n",
              "      <td>22.000000</td>\n",
              "    </tr>\n",
              "    <tr>\n",
              "      <th>25%</th>\n",
              "      <td>183.500000</td>\n",
              "      <td>2.000000</td>\n",
              "      <td>0.000000</td>\n",
              "      <td>4.000000</td>\n",
              "      <td>0.000000</td>\n",
              "      <td>1.000000</td>\n",
              "      <td>0.000000</td>\n",
              "      <td>1.000000</td>\n",
              "      <td>0.337083</td>\n",
              "      <td>0.337842</td>\n",
              "      <td>0.520000</td>\n",
              "      <td>0.134950</td>\n",
              "      <td>315.500000</td>\n",
              "      <td>2497.000000</td>\n",
              "      <td>3152.000000</td>\n",
              "    </tr>\n",
              "    <tr>\n",
              "      <th>50%</th>\n",
              "      <td>366.000000</td>\n",
              "      <td>3.000000</td>\n",
              "      <td>1.000000</td>\n",
              "      <td>7.000000</td>\n",
              "      <td>0.000000</td>\n",
              "      <td>3.000000</td>\n",
              "      <td>1.000000</td>\n",
              "      <td>1.000000</td>\n",
              "      <td>0.498333</td>\n",
              "      <td>0.486733</td>\n",
              "      <td>0.626667</td>\n",
              "      <td>0.180975</td>\n",
              "      <td>713.000000</td>\n",
              "      <td>3662.000000</td>\n",
              "      <td>4548.000000</td>\n",
              "    </tr>\n",
              "    <tr>\n",
              "      <th>75%</th>\n",
              "      <td>548.500000</td>\n",
              "      <td>3.000000</td>\n",
              "      <td>1.000000</td>\n",
              "      <td>10.000000</td>\n",
              "      <td>0.000000</td>\n",
              "      <td>5.000000</td>\n",
              "      <td>1.000000</td>\n",
              "      <td>2.000000</td>\n",
              "      <td>0.655417</td>\n",
              "      <td>0.608602</td>\n",
              "      <td>0.730209</td>\n",
              "      <td>0.233214</td>\n",
              "      <td>1096.000000</td>\n",
              "      <td>4776.500000</td>\n",
              "      <td>5956.000000</td>\n",
              "    </tr>\n",
              "    <tr>\n",
              "      <th>max</th>\n",
              "      <td>731.000000</td>\n",
              "      <td>4.000000</td>\n",
              "      <td>1.000000</td>\n",
              "      <td>12.000000</td>\n",
              "      <td>1.000000</td>\n",
              "      <td>6.000000</td>\n",
              "      <td>1.000000</td>\n",
              "      <td>3.000000</td>\n",
              "      <td>0.861667</td>\n",
              "      <td>0.840896</td>\n",
              "      <td>0.972500</td>\n",
              "      <td>0.507463</td>\n",
              "      <td>3410.000000</td>\n",
              "      <td>6946.000000</td>\n",
              "      <td>8714.000000</td>\n",
              "    </tr>\n",
              "  </tbody>\n",
              "</table>\n",
              "</div>"
            ],
            "text/plain": [
              "          instant      season          yr        mnth     holiday     weekday  \\\n",
              "count  731.000000  731.000000  731.000000  731.000000  731.000000  731.000000   \n",
              "mean   366.000000    2.496580    0.500684    6.519836    0.028728    2.997264   \n",
              "std    211.165812    1.110807    0.500342    3.451913    0.167155    2.004787   \n",
              "min      1.000000    1.000000    0.000000    1.000000    0.000000    0.000000   \n",
              "25%    183.500000    2.000000    0.000000    4.000000    0.000000    1.000000   \n",
              "50%    366.000000    3.000000    1.000000    7.000000    0.000000    3.000000   \n",
              "75%    548.500000    3.000000    1.000000   10.000000    0.000000    5.000000   \n",
              "max    731.000000    4.000000    1.000000   12.000000    1.000000    6.000000   \n",
              "\n",
              "       workingday  weathersit        temp       atemp         hum   windspeed  \\\n",
              "count  731.000000  731.000000  731.000000  731.000000  731.000000  731.000000   \n",
              "mean     0.683995    1.395349    0.495385    0.474354    0.627894    0.190486   \n",
              "std      0.465233    0.544894    0.183051    0.162961    0.142429    0.077498   \n",
              "min      0.000000    1.000000    0.059130    0.079070    0.000000    0.022392   \n",
              "25%      0.000000    1.000000    0.337083    0.337842    0.520000    0.134950   \n",
              "50%      1.000000    1.000000    0.498333    0.486733    0.626667    0.180975   \n",
              "75%      1.000000    2.000000    0.655417    0.608602    0.730209    0.233214   \n",
              "max      1.000000    3.000000    0.861667    0.840896    0.972500    0.507463   \n",
              "\n",
              "            casual   registered          cnt  \n",
              "count   731.000000   731.000000   731.000000  \n",
              "mean    848.176471  3656.172367  4504.348837  \n",
              "std     686.622488  1560.256377  1937.211452  \n",
              "min       2.000000    20.000000    22.000000  \n",
              "25%     315.500000  2497.000000  3152.000000  \n",
              "50%     713.000000  3662.000000  4548.000000  \n",
              "75%    1096.000000  4776.500000  5956.000000  \n",
              "max    3410.000000  6946.000000  8714.000000  "
            ]
          },
          "execution_count": 12,
          "metadata": {},
          "output_type": "execute_result"
        }
      ],
      "source": [
        "day_df.describe()\n",
        "# Bisa kita lihat bahwa tidak terdapat kejanggalan pada ringkasan parameter statistik di tabel Day"
      ]
    },
    {
      "cell_type": "markdown",
      "metadata": {
        "id": "7dtxhAPrkhPL"
      },
      "source": [
        "**Insight:**\n",
        "- Dapat kita lihat bahwa terdapat kesalahan tipe data pada kolom dteday di tabel Hour dan Day\n",
        "- Selain kesalahan tipe data, tidak terdapat kejanggalan di kedua tabel"
      ]
    },
    {
      "cell_type": "markdown",
      "metadata": {
        "id": "EhN5R4hr8DC1"
      },
      "source": [
        "### Cleaning Data"
      ]
    },
    {
      "cell_type": "markdown",
      "metadata": {
        "id": "EfqrRU4mmz60"
      },
      "source": [
        "**Mengganti tipe data pada kolom dteday di tabel Hour**"
      ]
    },
    {
      "cell_type": "code",
      "execution_count": 13,
      "metadata": {
        "id": "jVnYpprE9Evz"
      },
      "outputs": [],
      "source": [
        "hour_df[\"dteday\"] = pd.to_datetime(hour_df[\"dteday\"])\n",
        "# Mengubah tipe data dari kolom dteday pada tabel Hour"
      ]
    },
    {
      "cell_type": "code",
      "execution_count": 14,
      "metadata": {
        "colab": {
          "base_uri": "https://localhost:8080/"
        },
        "id": "WtdKPn_Yn5xT",
        "outputId": "f542e0f3-a29b-41a1-a742-027a741ce96a"
      },
      "outputs": [
        {
          "name": "stdout",
          "output_type": "stream",
          "text": [
            "<class 'pandas.core.frame.DataFrame'>\n",
            "RangeIndex: 17379 entries, 0 to 17378\n",
            "Data columns (total 17 columns):\n",
            " #   Column      Non-Null Count  Dtype         \n",
            "---  ------      --------------  -----         \n",
            " 0   instant     17379 non-null  int64         \n",
            " 1   dteday      17379 non-null  datetime64[ns]\n",
            " 2   season      17379 non-null  int64         \n",
            " 3   yr          17379 non-null  int64         \n",
            " 4   mnth        17379 non-null  int64         \n",
            " 5   hr          17379 non-null  int64         \n",
            " 6   holiday     17379 non-null  int64         \n",
            " 7   weekday     17379 non-null  int64         \n",
            " 8   workingday  17379 non-null  int64         \n",
            " 9   weathersit  17379 non-null  int64         \n",
            " 10  temp        17379 non-null  float64       \n",
            " 11  atemp       17379 non-null  float64       \n",
            " 12  hum         17379 non-null  float64       \n",
            " 13  windspeed   17379 non-null  float64       \n",
            " 14  casual      17379 non-null  int64         \n",
            " 15  registered  17379 non-null  int64         \n",
            " 16  cnt         17379 non-null  int64         \n",
            "dtypes: datetime64[ns](1), float64(4), int64(12)\n",
            "memory usage: 2.3 MB\n"
          ]
        }
      ],
      "source": [
        "hour_df.info()\n",
        "# Bisa kita lihat bahwa tipe data dteday sudah benar, yaitu datetime"
      ]
    },
    {
      "cell_type": "markdown",
      "metadata": {
        "id": "mUB8PSkeo5ch"
      },
      "source": [
        "**Mengubah tipe data dari kolom dteday pada tabel Day**"
      ]
    },
    {
      "cell_type": "code",
      "execution_count": 15,
      "metadata": {
        "id": "45HfQgino-mn"
      },
      "outputs": [],
      "source": [
        "day_df[\"dteday\"] = pd.to_datetime(day_df[\"dteday\"])\n",
        "# Mengubah tipe data dari kolom dteday pada tabel Day"
      ]
    },
    {
      "cell_type": "code",
      "execution_count": 16,
      "metadata": {
        "colab": {
          "base_uri": "https://localhost:8080/"
        },
        "id": "NE_k1ZewpBnG",
        "outputId": "fc6696cf-b23c-47a6-de16-c49cf8f0a392"
      },
      "outputs": [
        {
          "name": "stdout",
          "output_type": "stream",
          "text": [
            "<class 'pandas.core.frame.DataFrame'>\n",
            "RangeIndex: 731 entries, 0 to 730\n",
            "Data columns (total 16 columns):\n",
            " #   Column      Non-Null Count  Dtype         \n",
            "---  ------      --------------  -----         \n",
            " 0   instant     731 non-null    int64         \n",
            " 1   dteday      731 non-null    datetime64[ns]\n",
            " 2   season      731 non-null    int64         \n",
            " 3   yr          731 non-null    int64         \n",
            " 4   mnth        731 non-null    int64         \n",
            " 5   holiday     731 non-null    int64         \n",
            " 6   weekday     731 non-null    int64         \n",
            " 7   workingday  731 non-null    int64         \n",
            " 8   weathersit  731 non-null    int64         \n",
            " 9   temp        731 non-null    float64       \n",
            " 10  atemp       731 non-null    float64       \n",
            " 11  hum         731 non-null    float64       \n",
            " 12  windspeed   731 non-null    float64       \n",
            " 13  casual      731 non-null    int64         \n",
            " 14  registered  731 non-null    int64         \n",
            " 15  cnt         731 non-null    int64         \n",
            "dtypes: datetime64[ns](1), float64(4), int64(11)\n",
            "memory usage: 91.5 KB\n"
          ]
        }
      ],
      "source": [
        "day_df.info()\n",
        "# Bisa kita lihat bahwa kolom dteday sudah bertipe data datetime"
      ]
    },
    {
      "cell_type": "markdown",
      "metadata": {
        "id": "Q_5ejIqckiSP"
      },
      "source": [
        "**Insight:**\n",
        "- Bisa kita lihat bahwa proses cleaning data pada tabel Hour dan Day sudah berhasil\n",
        "- Dapat kita simpulkan bahwa kedua data sudah clean dan bisa diproses ke tahap selanjutnya"
      ]
    },
    {
      "cell_type": "markdown",
      "metadata": {
        "id": "gp-Y6wU38DC1"
      },
      "source": [
        "## Exploratory Data Analysis (EDA)"
      ]
    },
    {
      "cell_type": "markdown",
      "metadata": {
        "id": "MW7WF2kr8DC1"
      },
      "source": [
        "### Explore hour_df Data"
      ]
    },
    {
      "cell_type": "code",
      "execution_count": 17,
      "metadata": {
        "colab": {
          "base_uri": "https://localhost:8080/",
          "height": 0
        },
        "id": "e9CQCZjk8DC2",
        "outputId": "f2e442fd-cc45-4356-9246-f421ea7dd9ac"
      },
      "outputs": [
        {
          "data": {
            "text/html": [
              "<div>\n",
              "<style scoped>\n",
              "    .dataframe tbody tr th:only-of-type {\n",
              "        vertical-align: middle;\n",
              "    }\n",
              "\n",
              "    .dataframe tbody tr th {\n",
              "        vertical-align: top;\n",
              "    }\n",
              "\n",
              "    .dataframe thead th {\n",
              "        text-align: right;\n",
              "    }\n",
              "</style>\n",
              "<table border=\"1\" class=\"dataframe\">\n",
              "  <thead>\n",
              "    <tr style=\"text-align: right;\">\n",
              "      <th></th>\n",
              "      <th>instant</th>\n",
              "      <th>dteday</th>\n",
              "      <th>season</th>\n",
              "      <th>yr</th>\n",
              "      <th>mnth</th>\n",
              "      <th>hr</th>\n",
              "      <th>holiday</th>\n",
              "      <th>weekday</th>\n",
              "      <th>workingday</th>\n",
              "      <th>weathersit</th>\n",
              "      <th>temp</th>\n",
              "      <th>atemp</th>\n",
              "      <th>hum</th>\n",
              "      <th>windspeed</th>\n",
              "      <th>casual</th>\n",
              "      <th>registered</th>\n",
              "      <th>cnt</th>\n",
              "    </tr>\n",
              "  </thead>\n",
              "  <tbody>\n",
              "    <tr>\n",
              "      <th>count</th>\n",
              "      <td>17379.0000</td>\n",
              "      <td>17379</td>\n",
              "      <td>17379.000000</td>\n",
              "      <td>17379.000000</td>\n",
              "      <td>17379.000000</td>\n",
              "      <td>17379.000000</td>\n",
              "      <td>17379.000000</td>\n",
              "      <td>17379.000000</td>\n",
              "      <td>17379.000000</td>\n",
              "      <td>17379.000000</td>\n",
              "      <td>17379.000000</td>\n",
              "      <td>17379.000000</td>\n",
              "      <td>17379.000000</td>\n",
              "      <td>17379.000000</td>\n",
              "      <td>17379.000000</td>\n",
              "      <td>17379.000000</td>\n",
              "      <td>17379.000000</td>\n",
              "    </tr>\n",
              "    <tr>\n",
              "      <th>mean</th>\n",
              "      <td>8690.0000</td>\n",
              "      <td>2012-01-02 04:08:34.552045568</td>\n",
              "      <td>2.501640</td>\n",
              "      <td>0.502561</td>\n",
              "      <td>6.537775</td>\n",
              "      <td>11.546752</td>\n",
              "      <td>0.028770</td>\n",
              "      <td>3.003683</td>\n",
              "      <td>0.682721</td>\n",
              "      <td>1.425283</td>\n",
              "      <td>0.496987</td>\n",
              "      <td>0.475775</td>\n",
              "      <td>0.627229</td>\n",
              "      <td>0.190098</td>\n",
              "      <td>35.676218</td>\n",
              "      <td>153.786869</td>\n",
              "      <td>189.463088</td>\n",
              "    </tr>\n",
              "    <tr>\n",
              "      <th>min</th>\n",
              "      <td>1.0000</td>\n",
              "      <td>2011-01-01 00:00:00</td>\n",
              "      <td>1.000000</td>\n",
              "      <td>0.000000</td>\n",
              "      <td>1.000000</td>\n",
              "      <td>0.000000</td>\n",
              "      <td>0.000000</td>\n",
              "      <td>0.000000</td>\n",
              "      <td>0.000000</td>\n",
              "      <td>1.000000</td>\n",
              "      <td>0.020000</td>\n",
              "      <td>0.000000</td>\n",
              "      <td>0.000000</td>\n",
              "      <td>0.000000</td>\n",
              "      <td>0.000000</td>\n",
              "      <td>0.000000</td>\n",
              "      <td>1.000000</td>\n",
              "    </tr>\n",
              "    <tr>\n",
              "      <th>25%</th>\n",
              "      <td>4345.5000</td>\n",
              "      <td>2011-07-04 00:00:00</td>\n",
              "      <td>2.000000</td>\n",
              "      <td>0.000000</td>\n",
              "      <td>4.000000</td>\n",
              "      <td>6.000000</td>\n",
              "      <td>0.000000</td>\n",
              "      <td>1.000000</td>\n",
              "      <td>0.000000</td>\n",
              "      <td>1.000000</td>\n",
              "      <td>0.340000</td>\n",
              "      <td>0.333300</td>\n",
              "      <td>0.480000</td>\n",
              "      <td>0.104500</td>\n",
              "      <td>4.000000</td>\n",
              "      <td>34.000000</td>\n",
              "      <td>40.000000</td>\n",
              "    </tr>\n",
              "    <tr>\n",
              "      <th>50%</th>\n",
              "      <td>8690.0000</td>\n",
              "      <td>2012-01-02 00:00:00</td>\n",
              "      <td>3.000000</td>\n",
              "      <td>1.000000</td>\n",
              "      <td>7.000000</td>\n",
              "      <td>12.000000</td>\n",
              "      <td>0.000000</td>\n",
              "      <td>3.000000</td>\n",
              "      <td>1.000000</td>\n",
              "      <td>1.000000</td>\n",
              "      <td>0.500000</td>\n",
              "      <td>0.484800</td>\n",
              "      <td>0.630000</td>\n",
              "      <td>0.194000</td>\n",
              "      <td>17.000000</td>\n",
              "      <td>115.000000</td>\n",
              "      <td>142.000000</td>\n",
              "    </tr>\n",
              "    <tr>\n",
              "      <th>75%</th>\n",
              "      <td>13034.5000</td>\n",
              "      <td>2012-07-02 00:00:00</td>\n",
              "      <td>3.000000</td>\n",
              "      <td>1.000000</td>\n",
              "      <td>10.000000</td>\n",
              "      <td>18.000000</td>\n",
              "      <td>0.000000</td>\n",
              "      <td>5.000000</td>\n",
              "      <td>1.000000</td>\n",
              "      <td>2.000000</td>\n",
              "      <td>0.660000</td>\n",
              "      <td>0.621200</td>\n",
              "      <td>0.780000</td>\n",
              "      <td>0.253700</td>\n",
              "      <td>48.000000</td>\n",
              "      <td>220.000000</td>\n",
              "      <td>281.000000</td>\n",
              "    </tr>\n",
              "    <tr>\n",
              "      <th>max</th>\n",
              "      <td>17379.0000</td>\n",
              "      <td>2012-12-31 00:00:00</td>\n",
              "      <td>4.000000</td>\n",
              "      <td>1.000000</td>\n",
              "      <td>12.000000</td>\n",
              "      <td>23.000000</td>\n",
              "      <td>1.000000</td>\n",
              "      <td>6.000000</td>\n",
              "      <td>1.000000</td>\n",
              "      <td>4.000000</td>\n",
              "      <td>1.000000</td>\n",
              "      <td>1.000000</td>\n",
              "      <td>1.000000</td>\n",
              "      <td>0.850700</td>\n",
              "      <td>367.000000</td>\n",
              "      <td>886.000000</td>\n",
              "      <td>977.000000</td>\n",
              "    </tr>\n",
              "    <tr>\n",
              "      <th>std</th>\n",
              "      <td>5017.0295</td>\n",
              "      <td>NaN</td>\n",
              "      <td>1.106918</td>\n",
              "      <td>0.500008</td>\n",
              "      <td>3.438776</td>\n",
              "      <td>6.914405</td>\n",
              "      <td>0.167165</td>\n",
              "      <td>2.005771</td>\n",
              "      <td>0.465431</td>\n",
              "      <td>0.639357</td>\n",
              "      <td>0.192556</td>\n",
              "      <td>0.171850</td>\n",
              "      <td>0.192930</td>\n",
              "      <td>0.122340</td>\n",
              "      <td>49.305030</td>\n",
              "      <td>151.357286</td>\n",
              "      <td>181.387599</td>\n",
              "    </tr>\n",
              "  </tbody>\n",
              "</table>\n",
              "</div>"
            ],
            "text/plain": [
              "          instant                         dteday        season            yr  \\\n",
              "count  17379.0000                          17379  17379.000000  17379.000000   \n",
              "mean    8690.0000  2012-01-02 04:08:34.552045568      2.501640      0.502561   \n",
              "min        1.0000            2011-01-01 00:00:00      1.000000      0.000000   \n",
              "25%     4345.5000            2011-07-04 00:00:00      2.000000      0.000000   \n",
              "50%     8690.0000            2012-01-02 00:00:00      3.000000      1.000000   \n",
              "75%    13034.5000            2012-07-02 00:00:00      3.000000      1.000000   \n",
              "max    17379.0000            2012-12-31 00:00:00      4.000000      1.000000   \n",
              "std     5017.0295                            NaN      1.106918      0.500008   \n",
              "\n",
              "               mnth            hr       holiday       weekday    workingday  \\\n",
              "count  17379.000000  17379.000000  17379.000000  17379.000000  17379.000000   \n",
              "mean       6.537775     11.546752      0.028770      3.003683      0.682721   \n",
              "min        1.000000      0.000000      0.000000      0.000000      0.000000   \n",
              "25%        4.000000      6.000000      0.000000      1.000000      0.000000   \n",
              "50%        7.000000     12.000000      0.000000      3.000000      1.000000   \n",
              "75%       10.000000     18.000000      0.000000      5.000000      1.000000   \n",
              "max       12.000000     23.000000      1.000000      6.000000      1.000000   \n",
              "std        3.438776      6.914405      0.167165      2.005771      0.465431   \n",
              "\n",
              "         weathersit          temp         atemp           hum     windspeed  \\\n",
              "count  17379.000000  17379.000000  17379.000000  17379.000000  17379.000000   \n",
              "mean       1.425283      0.496987      0.475775      0.627229      0.190098   \n",
              "min        1.000000      0.020000      0.000000      0.000000      0.000000   \n",
              "25%        1.000000      0.340000      0.333300      0.480000      0.104500   \n",
              "50%        1.000000      0.500000      0.484800      0.630000      0.194000   \n",
              "75%        2.000000      0.660000      0.621200      0.780000      0.253700   \n",
              "max        4.000000      1.000000      1.000000      1.000000      0.850700   \n",
              "std        0.639357      0.192556      0.171850      0.192930      0.122340   \n",
              "\n",
              "             casual    registered           cnt  \n",
              "count  17379.000000  17379.000000  17379.000000  \n",
              "mean      35.676218    153.786869    189.463088  \n",
              "min        0.000000      0.000000      1.000000  \n",
              "25%        4.000000     34.000000     40.000000  \n",
              "50%       17.000000    115.000000    142.000000  \n",
              "75%       48.000000    220.000000    281.000000  \n",
              "max      367.000000    886.000000    977.000000  \n",
              "std       49.305030    151.357286    181.387599  "
            ]
          },
          "execution_count": 17,
          "metadata": {},
          "output_type": "execute_result"
        }
      ],
      "source": [
        "hour_df.describe(include=\"all\")"
      ]
    },
    {
      "cell_type": "code",
      "execution_count": 18,
      "metadata": {},
      "outputs": [
        {
          "data": {
            "text/html": [
              "<div>\n",
              "<style scoped>\n",
              "    .dataframe tbody tr th:only-of-type {\n",
              "        vertical-align: middle;\n",
              "    }\n",
              "\n",
              "    .dataframe tbody tr th {\n",
              "        vertical-align: top;\n",
              "    }\n",
              "\n",
              "    .dataframe thead th {\n",
              "        text-align: right;\n",
              "    }\n",
              "</style>\n",
              "<table border=\"1\" class=\"dataframe\">\n",
              "  <thead>\n",
              "    <tr style=\"text-align: right;\">\n",
              "      <th></th>\n",
              "      <th>yr</th>\n",
              "      <th>mnth</th>\n",
              "      <th>instant</th>\n",
              "      <th>casual</th>\n",
              "      <th>registered</th>\n",
              "      <th>cnt</th>\n",
              "    </tr>\n",
              "  </thead>\n",
              "  <tbody>\n",
              "    <tr>\n",
              "      <th>0</th>\n",
              "      <td>2011</td>\n",
              "      <td>1</td>\n",
              "      <td>688</td>\n",
              "      <td>3073</td>\n",
              "      <td>35116</td>\n",
              "      <td>38189</td>\n",
              "    </tr>\n",
              "    <tr>\n",
              "      <th>1</th>\n",
              "      <td>2011</td>\n",
              "      <td>2</td>\n",
              "      <td>649</td>\n",
              "      <td>6242</td>\n",
              "      <td>41973</td>\n",
              "      <td>48215</td>\n",
              "    </tr>\n",
              "    <tr>\n",
              "      <th>2</th>\n",
              "      <td>2011</td>\n",
              "      <td>3</td>\n",
              "      <td>730</td>\n",
              "      <td>12826</td>\n",
              "      <td>51219</td>\n",
              "      <td>64045</td>\n",
              "    </tr>\n",
              "    <tr>\n",
              "      <th>3</th>\n",
              "      <td>2011</td>\n",
              "      <td>4</td>\n",
              "      <td>719</td>\n",
              "      <td>22346</td>\n",
              "      <td>72524</td>\n",
              "      <td>94870</td>\n",
              "    </tr>\n",
              "    <tr>\n",
              "      <th>4</th>\n",
              "      <td>2011</td>\n",
              "      <td>5</td>\n",
              "      <td>744</td>\n",
              "      <td>31050</td>\n",
              "      <td>104771</td>\n",
              "      <td>135821</td>\n",
              "    </tr>\n",
              "    <tr>\n",
              "      <th>5</th>\n",
              "      <td>2011</td>\n",
              "      <td>6</td>\n",
              "      <td>720</td>\n",
              "      <td>30612</td>\n",
              "      <td>112900</td>\n",
              "      <td>143512</td>\n",
              "    </tr>\n",
              "    <tr>\n",
              "      <th>6</th>\n",
              "      <td>2011</td>\n",
              "      <td>7</td>\n",
              "      <td>744</td>\n",
              "      <td>36452</td>\n",
              "      <td>104889</td>\n",
              "      <td>141341</td>\n",
              "    </tr>\n",
              "    <tr>\n",
              "      <th>7</th>\n",
              "      <td>2011</td>\n",
              "      <td>8</td>\n",
              "      <td>731</td>\n",
              "      <td>28842</td>\n",
              "      <td>107849</td>\n",
              "      <td>136691</td>\n",
              "    </tr>\n",
              "    <tr>\n",
              "      <th>8</th>\n",
              "      <td>2011</td>\n",
              "      <td>9</td>\n",
              "      <td>717</td>\n",
              "      <td>26545</td>\n",
              "      <td>100873</td>\n",
              "      <td>127418</td>\n",
              "    </tr>\n",
              "    <tr>\n",
              "      <th>9</th>\n",
              "      <td>2011</td>\n",
              "      <td>10</td>\n",
              "      <td>743</td>\n",
              "      <td>25222</td>\n",
              "      <td>98289</td>\n",
              "      <td>123511</td>\n",
              "    </tr>\n",
              "    <tr>\n",
              "      <th>10</th>\n",
              "      <td>2011</td>\n",
              "      <td>11</td>\n",
              "      <td>719</td>\n",
              "      <td>15594</td>\n",
              "      <td>86573</td>\n",
              "      <td>102167</td>\n",
              "    </tr>\n",
              "    <tr>\n",
              "      <th>11</th>\n",
              "      <td>2011</td>\n",
              "      <td>12</td>\n",
              "      <td>741</td>\n",
              "      <td>8448</td>\n",
              "      <td>78875</td>\n",
              "      <td>87323</td>\n",
              "    </tr>\n",
              "    <tr>\n",
              "      <th>12</th>\n",
              "      <td>2012</td>\n",
              "      <td>1</td>\n",
              "      <td>741</td>\n",
              "      <td>8969</td>\n",
              "      <td>87775</td>\n",
              "      <td>96744</td>\n",
              "    </tr>\n",
              "    <tr>\n",
              "      <th>13</th>\n",
              "      <td>2012</td>\n",
              "      <td>2</td>\n",
              "      <td>692</td>\n",
              "      <td>8721</td>\n",
              "      <td>94416</td>\n",
              "      <td>103137</td>\n",
              "    </tr>\n",
              "    <tr>\n",
              "      <th>14</th>\n",
              "      <td>2012</td>\n",
              "      <td>3</td>\n",
              "      <td>743</td>\n",
              "      <td>31618</td>\n",
              "      <td>133257</td>\n",
              "      <td>164875</td>\n",
              "    </tr>\n",
              "    <tr>\n",
              "      <th>15</th>\n",
              "      <td>2012</td>\n",
              "      <td>4</td>\n",
              "      <td>718</td>\n",
              "      <td>38456</td>\n",
              "      <td>135768</td>\n",
              "      <td>174224</td>\n",
              "    </tr>\n",
              "    <tr>\n",
              "      <th>16</th>\n",
              "      <td>2012</td>\n",
              "      <td>5</td>\n",
              "      <td>744</td>\n",
              "      <td>44235</td>\n",
              "      <td>151630</td>\n",
              "      <td>195865</td>\n",
              "    </tr>\n",
              "    <tr>\n",
              "      <th>17</th>\n",
              "      <td>2012</td>\n",
              "      <td>6</td>\n",
              "      <td>720</td>\n",
              "      <td>43294</td>\n",
              "      <td>159536</td>\n",
              "      <td>202830</td>\n",
              "    </tr>\n",
              "    <tr>\n",
              "      <th>18</th>\n",
              "      <td>2012</td>\n",
              "      <td>7</td>\n",
              "      <td>744</td>\n",
              "      <td>41705</td>\n",
              "      <td>161902</td>\n",
              "      <td>203607</td>\n",
              "    </tr>\n",
              "    <tr>\n",
              "      <th>19</th>\n",
              "      <td>2012</td>\n",
              "      <td>8</td>\n",
              "      <td>744</td>\n",
              "      <td>43197</td>\n",
              "      <td>171306</td>\n",
              "      <td>214503</td>\n",
              "    </tr>\n",
              "    <tr>\n",
              "      <th>20</th>\n",
              "      <td>2012</td>\n",
              "      <td>9</td>\n",
              "      <td>720</td>\n",
              "      <td>43778</td>\n",
              "      <td>174795</td>\n",
              "      <td>218573</td>\n",
              "    </tr>\n",
              "    <tr>\n",
              "      <th>21</th>\n",
              "      <td>2012</td>\n",
              "      <td>10</td>\n",
              "      <td>708</td>\n",
              "      <td>34538</td>\n",
              "      <td>164303</td>\n",
              "      <td>198841</td>\n",
              "    </tr>\n",
              "    <tr>\n",
              "      <th>22</th>\n",
              "      <td>2012</td>\n",
              "      <td>11</td>\n",
              "      <td>718</td>\n",
              "      <td>21009</td>\n",
              "      <td>131655</td>\n",
              "      <td>152664</td>\n",
              "    </tr>\n",
              "    <tr>\n",
              "      <th>23</th>\n",
              "      <td>2012</td>\n",
              "      <td>12</td>\n",
              "      <td>742</td>\n",
              "      <td>13245</td>\n",
              "      <td>110468</td>\n",
              "      <td>123713</td>\n",
              "    </tr>\n",
              "  </tbody>\n",
              "</table>\n",
              "</div>"
            ],
            "text/plain": [
              "      yr  mnth  instant  casual  registered     cnt\n",
              "0   2011     1      688    3073       35116   38189\n",
              "1   2011     2      649    6242       41973   48215\n",
              "2   2011     3      730   12826       51219   64045\n",
              "3   2011     4      719   22346       72524   94870\n",
              "4   2011     5      744   31050      104771  135821\n",
              "5   2011     6      720   30612      112900  143512\n",
              "6   2011     7      744   36452      104889  141341\n",
              "7   2011     8      731   28842      107849  136691\n",
              "8   2011     9      717   26545      100873  127418\n",
              "9   2011    10      743   25222       98289  123511\n",
              "10  2011    11      719   15594       86573  102167\n",
              "11  2011    12      741    8448       78875   87323\n",
              "12  2012     1      741    8969       87775   96744\n",
              "13  2012     2      692    8721       94416  103137\n",
              "14  2012     3      743   31618      133257  164875\n",
              "15  2012     4      718   38456      135768  174224\n",
              "16  2012     5      744   44235      151630  195865\n",
              "17  2012     6      720   43294      159536  202830\n",
              "18  2012     7      744   41705      161902  203607\n",
              "19  2012     8      744   43197      171306  214503\n",
              "20  2012     9      720   43778      174795  218573\n",
              "21  2012    10      708   34538      164303  198841\n",
              "22  2012    11      718   21009      131655  152664\n",
              "23  2012    12      742   13245      110468  123713"
            ]
          },
          "execution_count": 18,
          "metadata": {},
          "output_type": "execute_result"
        }
      ],
      "source": [
        "hour_df[\"yr\"] = hour_df[\"yr\"].replace({0: 2011, 1: 2012})\n",
        "\n",
        "hour_df.groupby(by=[\"yr\", \"mnth\"]).agg({\n",
        "    \"instant\" : \"nunique\",\n",
        "    \"casual\" : \"sum\",\n",
        "    \"registered\" : \"sum\",\n",
        "    \"cnt\" : \"sum\"\n",
        "}).reset_index()\n"
      ]
    },
    {
      "cell_type": "markdown",
      "metadata": {
        "id": "4B95zSw0AnKM"
      },
      "source": [
        "**Mengelompokkan data berdasarkan kolom weathersit pada tabel Hour**\n",
        "\n",
        "---\n",
        "\n"
      ]
    },
    {
      "cell_type": "code",
      "execution_count": 19,
      "metadata": {
        "colab": {
          "base_uri": "https://localhost:8080/",
          "height": 0
        },
        "id": "kWFzu55nAFN5",
        "outputId": "ab3f870a-9d9c-4f38-e9d8-b71fabd97bca"
      },
      "outputs": [
        {
          "data": {
            "text/plain": [
              "weathersit\n",
              "1    11413\n",
              "2     4544\n",
              "3     1419\n",
              "4        3\n",
              "Name: instant, dtype: int64"
            ]
          },
          "execution_count": 19,
          "metadata": {},
          "output_type": "execute_result"
        }
      ],
      "source": [
        "hour_df.groupby(by=\"weathersit\").instant.nunique()"
      ]
    },
    {
      "cell_type": "markdown",
      "metadata": {
        "id": "th_Lzl2Fkj9O"
      },
      "source": [
        "**Insight:**\n",
        "- Dapat kita simpulkan bahwa kondisi cuaca berperan penting terhadap pengguna layanan Bike Sharing ini. Bisa kita lihat bahwa pengguna jauh melonjak pada cuaca yang cerah"
      ]
    },
    {
      "cell_type": "markdown",
      "metadata": {},
      "source": [
        "### Explore day_df Data"
      ]
    },
    {
      "cell_type": "code",
      "execution_count": 20,
      "metadata": {},
      "outputs": [
        {
          "data": {
            "text/html": [
              "<div>\n",
              "<style scoped>\n",
              "    .dataframe tbody tr th:only-of-type {\n",
              "        vertical-align: middle;\n",
              "    }\n",
              "\n",
              "    .dataframe tbody tr th {\n",
              "        vertical-align: top;\n",
              "    }\n",
              "\n",
              "    .dataframe thead th {\n",
              "        text-align: right;\n",
              "    }\n",
              "</style>\n",
              "<table border=\"1\" class=\"dataframe\">\n",
              "  <thead>\n",
              "    <tr style=\"text-align: right;\">\n",
              "      <th></th>\n",
              "      <th>instant</th>\n",
              "      <th>dteday</th>\n",
              "      <th>season</th>\n",
              "      <th>yr</th>\n",
              "      <th>mnth</th>\n",
              "      <th>holiday</th>\n",
              "      <th>weekday</th>\n",
              "      <th>workingday</th>\n",
              "      <th>weathersit</th>\n",
              "      <th>temp</th>\n",
              "      <th>atemp</th>\n",
              "      <th>hum</th>\n",
              "      <th>windspeed</th>\n",
              "      <th>casual</th>\n",
              "      <th>registered</th>\n",
              "      <th>cnt</th>\n",
              "    </tr>\n",
              "  </thead>\n",
              "  <tbody>\n",
              "    <tr>\n",
              "      <th>count</th>\n",
              "      <td>731.000000</td>\n",
              "      <td>731</td>\n",
              "      <td>731.000000</td>\n",
              "      <td>731.000000</td>\n",
              "      <td>731.000000</td>\n",
              "      <td>731.000000</td>\n",
              "      <td>731.000000</td>\n",
              "      <td>731.000000</td>\n",
              "      <td>731.000000</td>\n",
              "      <td>731.000000</td>\n",
              "      <td>731.000000</td>\n",
              "      <td>731.000000</td>\n",
              "      <td>731.000000</td>\n",
              "      <td>731.000000</td>\n",
              "      <td>731.000000</td>\n",
              "      <td>731.000000</td>\n",
              "    </tr>\n",
              "    <tr>\n",
              "      <th>mean</th>\n",
              "      <td>366.000000</td>\n",
              "      <td>2012-01-01 00:00:00</td>\n",
              "      <td>2.496580</td>\n",
              "      <td>0.500684</td>\n",
              "      <td>6.519836</td>\n",
              "      <td>0.028728</td>\n",
              "      <td>2.997264</td>\n",
              "      <td>0.683995</td>\n",
              "      <td>1.395349</td>\n",
              "      <td>0.495385</td>\n",
              "      <td>0.474354</td>\n",
              "      <td>0.627894</td>\n",
              "      <td>0.190486</td>\n",
              "      <td>848.176471</td>\n",
              "      <td>3656.172367</td>\n",
              "      <td>4504.348837</td>\n",
              "    </tr>\n",
              "    <tr>\n",
              "      <th>min</th>\n",
              "      <td>1.000000</td>\n",
              "      <td>2011-01-01 00:00:00</td>\n",
              "      <td>1.000000</td>\n",
              "      <td>0.000000</td>\n",
              "      <td>1.000000</td>\n",
              "      <td>0.000000</td>\n",
              "      <td>0.000000</td>\n",
              "      <td>0.000000</td>\n",
              "      <td>1.000000</td>\n",
              "      <td>0.059130</td>\n",
              "      <td>0.079070</td>\n",
              "      <td>0.000000</td>\n",
              "      <td>0.022392</td>\n",
              "      <td>2.000000</td>\n",
              "      <td>20.000000</td>\n",
              "      <td>22.000000</td>\n",
              "    </tr>\n",
              "    <tr>\n",
              "      <th>25%</th>\n",
              "      <td>183.500000</td>\n",
              "      <td>2011-07-02 12:00:00</td>\n",
              "      <td>2.000000</td>\n",
              "      <td>0.000000</td>\n",
              "      <td>4.000000</td>\n",
              "      <td>0.000000</td>\n",
              "      <td>1.000000</td>\n",
              "      <td>0.000000</td>\n",
              "      <td>1.000000</td>\n",
              "      <td>0.337083</td>\n",
              "      <td>0.337842</td>\n",
              "      <td>0.520000</td>\n",
              "      <td>0.134950</td>\n",
              "      <td>315.500000</td>\n",
              "      <td>2497.000000</td>\n",
              "      <td>3152.000000</td>\n",
              "    </tr>\n",
              "    <tr>\n",
              "      <th>50%</th>\n",
              "      <td>366.000000</td>\n",
              "      <td>2012-01-01 00:00:00</td>\n",
              "      <td>3.000000</td>\n",
              "      <td>1.000000</td>\n",
              "      <td>7.000000</td>\n",
              "      <td>0.000000</td>\n",
              "      <td>3.000000</td>\n",
              "      <td>1.000000</td>\n",
              "      <td>1.000000</td>\n",
              "      <td>0.498333</td>\n",
              "      <td>0.486733</td>\n",
              "      <td>0.626667</td>\n",
              "      <td>0.180975</td>\n",
              "      <td>713.000000</td>\n",
              "      <td>3662.000000</td>\n",
              "      <td>4548.000000</td>\n",
              "    </tr>\n",
              "    <tr>\n",
              "      <th>75%</th>\n",
              "      <td>548.500000</td>\n",
              "      <td>2012-07-01 12:00:00</td>\n",
              "      <td>3.000000</td>\n",
              "      <td>1.000000</td>\n",
              "      <td>10.000000</td>\n",
              "      <td>0.000000</td>\n",
              "      <td>5.000000</td>\n",
              "      <td>1.000000</td>\n",
              "      <td>2.000000</td>\n",
              "      <td>0.655417</td>\n",
              "      <td>0.608602</td>\n",
              "      <td>0.730209</td>\n",
              "      <td>0.233214</td>\n",
              "      <td>1096.000000</td>\n",
              "      <td>4776.500000</td>\n",
              "      <td>5956.000000</td>\n",
              "    </tr>\n",
              "    <tr>\n",
              "      <th>max</th>\n",
              "      <td>731.000000</td>\n",
              "      <td>2012-12-31 00:00:00</td>\n",
              "      <td>4.000000</td>\n",
              "      <td>1.000000</td>\n",
              "      <td>12.000000</td>\n",
              "      <td>1.000000</td>\n",
              "      <td>6.000000</td>\n",
              "      <td>1.000000</td>\n",
              "      <td>3.000000</td>\n",
              "      <td>0.861667</td>\n",
              "      <td>0.840896</td>\n",
              "      <td>0.972500</td>\n",
              "      <td>0.507463</td>\n",
              "      <td>3410.000000</td>\n",
              "      <td>6946.000000</td>\n",
              "      <td>8714.000000</td>\n",
              "    </tr>\n",
              "    <tr>\n",
              "      <th>std</th>\n",
              "      <td>211.165812</td>\n",
              "      <td>NaN</td>\n",
              "      <td>1.110807</td>\n",
              "      <td>0.500342</td>\n",
              "      <td>3.451913</td>\n",
              "      <td>0.167155</td>\n",
              "      <td>2.004787</td>\n",
              "      <td>0.465233</td>\n",
              "      <td>0.544894</td>\n",
              "      <td>0.183051</td>\n",
              "      <td>0.162961</td>\n",
              "      <td>0.142429</td>\n",
              "      <td>0.077498</td>\n",
              "      <td>686.622488</td>\n",
              "      <td>1560.256377</td>\n",
              "      <td>1937.211452</td>\n",
              "    </tr>\n",
              "  </tbody>\n",
              "</table>\n",
              "</div>"
            ],
            "text/plain": [
              "          instant               dteday      season          yr        mnth  \\\n",
              "count  731.000000                  731  731.000000  731.000000  731.000000   \n",
              "mean   366.000000  2012-01-01 00:00:00    2.496580    0.500684    6.519836   \n",
              "min      1.000000  2011-01-01 00:00:00    1.000000    0.000000    1.000000   \n",
              "25%    183.500000  2011-07-02 12:00:00    2.000000    0.000000    4.000000   \n",
              "50%    366.000000  2012-01-01 00:00:00    3.000000    1.000000    7.000000   \n",
              "75%    548.500000  2012-07-01 12:00:00    3.000000    1.000000   10.000000   \n",
              "max    731.000000  2012-12-31 00:00:00    4.000000    1.000000   12.000000   \n",
              "std    211.165812                  NaN    1.110807    0.500342    3.451913   \n",
              "\n",
              "          holiday     weekday  workingday  weathersit        temp       atemp  \\\n",
              "count  731.000000  731.000000  731.000000  731.000000  731.000000  731.000000   \n",
              "mean     0.028728    2.997264    0.683995    1.395349    0.495385    0.474354   \n",
              "min      0.000000    0.000000    0.000000    1.000000    0.059130    0.079070   \n",
              "25%      0.000000    1.000000    0.000000    1.000000    0.337083    0.337842   \n",
              "50%      0.000000    3.000000    1.000000    1.000000    0.498333    0.486733   \n",
              "75%      0.000000    5.000000    1.000000    2.000000    0.655417    0.608602   \n",
              "max      1.000000    6.000000    1.000000    3.000000    0.861667    0.840896   \n",
              "std      0.167155    2.004787    0.465233    0.544894    0.183051    0.162961   \n",
              "\n",
              "              hum   windspeed       casual   registered          cnt  \n",
              "count  731.000000  731.000000   731.000000   731.000000   731.000000  \n",
              "mean     0.627894    0.190486   848.176471  3656.172367  4504.348837  \n",
              "min      0.000000    0.022392     2.000000    20.000000    22.000000  \n",
              "25%      0.520000    0.134950   315.500000  2497.000000  3152.000000  \n",
              "50%      0.626667    0.180975   713.000000  3662.000000  4548.000000  \n",
              "75%      0.730209    0.233214  1096.000000  4776.500000  5956.000000  \n",
              "max      0.972500    0.507463  3410.000000  6946.000000  8714.000000  \n",
              "std      0.142429    0.077498   686.622488  1560.256377  1937.211452  "
            ]
          },
          "execution_count": 20,
          "metadata": {},
          "output_type": "execute_result"
        }
      ],
      "source": [
        "day_df.describe(include=\"all\")"
      ]
    },
    {
      "cell_type": "code",
      "execution_count": 21,
      "metadata": {},
      "outputs": [
        {
          "data": {
            "text/html": [
              "<div>\n",
              "<style scoped>\n",
              "    .dataframe tbody tr th:only-of-type {\n",
              "        vertical-align: middle;\n",
              "    }\n",
              "\n",
              "    .dataframe tbody tr th {\n",
              "        vertical-align: top;\n",
              "    }\n",
              "\n",
              "    .dataframe thead th {\n",
              "        text-align: right;\n",
              "    }\n",
              "</style>\n",
              "<table border=\"1\" class=\"dataframe\">\n",
              "  <thead>\n",
              "    <tr style=\"text-align: right;\">\n",
              "      <th></th>\n",
              "      <th>yr</th>\n",
              "      <th>mnth</th>\n",
              "      <th>instant</th>\n",
              "      <th>casual</th>\n",
              "      <th>registered</th>\n",
              "      <th>cnt</th>\n",
              "      <th>date</th>\n",
              "    </tr>\n",
              "  </thead>\n",
              "  <tbody>\n",
              "    <tr>\n",
              "      <th>0</th>\n",
              "      <td>2011</td>\n",
              "      <td>1</td>\n",
              "      <td>31</td>\n",
              "      <td>3073</td>\n",
              "      <td>35116</td>\n",
              "      <td>38189</td>\n",
              "      <td>2011-1</td>\n",
              "    </tr>\n",
              "    <tr>\n",
              "      <th>1</th>\n",
              "      <td>2011</td>\n",
              "      <td>2</td>\n",
              "      <td>28</td>\n",
              "      <td>6242</td>\n",
              "      <td>41973</td>\n",
              "      <td>48215</td>\n",
              "      <td>2011-2</td>\n",
              "    </tr>\n",
              "    <tr>\n",
              "      <th>2</th>\n",
              "      <td>2011</td>\n",
              "      <td>3</td>\n",
              "      <td>31</td>\n",
              "      <td>12826</td>\n",
              "      <td>51219</td>\n",
              "      <td>64045</td>\n",
              "      <td>2011-3</td>\n",
              "    </tr>\n",
              "    <tr>\n",
              "      <th>3</th>\n",
              "      <td>2011</td>\n",
              "      <td>4</td>\n",
              "      <td>30</td>\n",
              "      <td>22346</td>\n",
              "      <td>72524</td>\n",
              "      <td>94870</td>\n",
              "      <td>2011-4</td>\n",
              "    </tr>\n",
              "    <tr>\n",
              "      <th>4</th>\n",
              "      <td>2011</td>\n",
              "      <td>5</td>\n",
              "      <td>31</td>\n",
              "      <td>31050</td>\n",
              "      <td>104771</td>\n",
              "      <td>135821</td>\n",
              "      <td>2011-5</td>\n",
              "    </tr>\n",
              "    <tr>\n",
              "      <th>5</th>\n",
              "      <td>2011</td>\n",
              "      <td>6</td>\n",
              "      <td>30</td>\n",
              "      <td>30612</td>\n",
              "      <td>112900</td>\n",
              "      <td>143512</td>\n",
              "      <td>2011-6</td>\n",
              "    </tr>\n",
              "    <tr>\n",
              "      <th>6</th>\n",
              "      <td>2011</td>\n",
              "      <td>7</td>\n",
              "      <td>31</td>\n",
              "      <td>36452</td>\n",
              "      <td>104889</td>\n",
              "      <td>141341</td>\n",
              "      <td>2011-7</td>\n",
              "    </tr>\n",
              "    <tr>\n",
              "      <th>7</th>\n",
              "      <td>2011</td>\n",
              "      <td>8</td>\n",
              "      <td>31</td>\n",
              "      <td>28842</td>\n",
              "      <td>107849</td>\n",
              "      <td>136691</td>\n",
              "      <td>2011-8</td>\n",
              "    </tr>\n",
              "    <tr>\n",
              "      <th>8</th>\n",
              "      <td>2011</td>\n",
              "      <td>9</td>\n",
              "      <td>30</td>\n",
              "      <td>26545</td>\n",
              "      <td>100873</td>\n",
              "      <td>127418</td>\n",
              "      <td>2011-9</td>\n",
              "    </tr>\n",
              "    <tr>\n",
              "      <th>9</th>\n",
              "      <td>2011</td>\n",
              "      <td>10</td>\n",
              "      <td>31</td>\n",
              "      <td>25222</td>\n",
              "      <td>98289</td>\n",
              "      <td>123511</td>\n",
              "      <td>2011-10</td>\n",
              "    </tr>\n",
              "    <tr>\n",
              "      <th>10</th>\n",
              "      <td>2011</td>\n",
              "      <td>11</td>\n",
              "      <td>30</td>\n",
              "      <td>15594</td>\n",
              "      <td>86573</td>\n",
              "      <td>102167</td>\n",
              "      <td>2011-11</td>\n",
              "    </tr>\n",
              "    <tr>\n",
              "      <th>11</th>\n",
              "      <td>2011</td>\n",
              "      <td>12</td>\n",
              "      <td>31</td>\n",
              "      <td>8448</td>\n",
              "      <td>78875</td>\n",
              "      <td>87323</td>\n",
              "      <td>2011-12</td>\n",
              "    </tr>\n",
              "    <tr>\n",
              "      <th>12</th>\n",
              "      <td>2012</td>\n",
              "      <td>1</td>\n",
              "      <td>31</td>\n",
              "      <td>8969</td>\n",
              "      <td>87775</td>\n",
              "      <td>96744</td>\n",
              "      <td>2012-1</td>\n",
              "    </tr>\n",
              "    <tr>\n",
              "      <th>13</th>\n",
              "      <td>2012</td>\n",
              "      <td>2</td>\n",
              "      <td>29</td>\n",
              "      <td>8721</td>\n",
              "      <td>94416</td>\n",
              "      <td>103137</td>\n",
              "      <td>2012-2</td>\n",
              "    </tr>\n",
              "    <tr>\n",
              "      <th>14</th>\n",
              "      <td>2012</td>\n",
              "      <td>3</td>\n",
              "      <td>31</td>\n",
              "      <td>31618</td>\n",
              "      <td>133257</td>\n",
              "      <td>164875</td>\n",
              "      <td>2012-3</td>\n",
              "    </tr>\n",
              "    <tr>\n",
              "      <th>15</th>\n",
              "      <td>2012</td>\n",
              "      <td>4</td>\n",
              "      <td>30</td>\n",
              "      <td>38456</td>\n",
              "      <td>135768</td>\n",
              "      <td>174224</td>\n",
              "      <td>2012-4</td>\n",
              "    </tr>\n",
              "    <tr>\n",
              "      <th>16</th>\n",
              "      <td>2012</td>\n",
              "      <td>5</td>\n",
              "      <td>31</td>\n",
              "      <td>44235</td>\n",
              "      <td>151630</td>\n",
              "      <td>195865</td>\n",
              "      <td>2012-5</td>\n",
              "    </tr>\n",
              "    <tr>\n",
              "      <th>17</th>\n",
              "      <td>2012</td>\n",
              "      <td>6</td>\n",
              "      <td>30</td>\n",
              "      <td>43294</td>\n",
              "      <td>159536</td>\n",
              "      <td>202830</td>\n",
              "      <td>2012-6</td>\n",
              "    </tr>\n",
              "    <tr>\n",
              "      <th>18</th>\n",
              "      <td>2012</td>\n",
              "      <td>7</td>\n",
              "      <td>31</td>\n",
              "      <td>41705</td>\n",
              "      <td>161902</td>\n",
              "      <td>203607</td>\n",
              "      <td>2012-7</td>\n",
              "    </tr>\n",
              "    <tr>\n",
              "      <th>19</th>\n",
              "      <td>2012</td>\n",
              "      <td>8</td>\n",
              "      <td>31</td>\n",
              "      <td>43197</td>\n",
              "      <td>171306</td>\n",
              "      <td>214503</td>\n",
              "      <td>2012-8</td>\n",
              "    </tr>\n",
              "    <tr>\n",
              "      <th>20</th>\n",
              "      <td>2012</td>\n",
              "      <td>9</td>\n",
              "      <td>30</td>\n",
              "      <td>43778</td>\n",
              "      <td>174795</td>\n",
              "      <td>218573</td>\n",
              "      <td>2012-9</td>\n",
              "    </tr>\n",
              "    <tr>\n",
              "      <th>21</th>\n",
              "      <td>2012</td>\n",
              "      <td>10</td>\n",
              "      <td>31</td>\n",
              "      <td>34538</td>\n",
              "      <td>164303</td>\n",
              "      <td>198841</td>\n",
              "      <td>2012-10</td>\n",
              "    </tr>\n",
              "    <tr>\n",
              "      <th>22</th>\n",
              "      <td>2012</td>\n",
              "      <td>11</td>\n",
              "      <td>30</td>\n",
              "      <td>21009</td>\n",
              "      <td>131655</td>\n",
              "      <td>152664</td>\n",
              "      <td>2012-11</td>\n",
              "    </tr>\n",
              "    <tr>\n",
              "      <th>23</th>\n",
              "      <td>2012</td>\n",
              "      <td>12</td>\n",
              "      <td>31</td>\n",
              "      <td>13245</td>\n",
              "      <td>110468</td>\n",
              "      <td>123713</td>\n",
              "      <td>2012-12</td>\n",
              "    </tr>\n",
              "  </tbody>\n",
              "</table>\n",
              "</div>"
            ],
            "text/plain": [
              "      yr  mnth  instant  casual  registered     cnt     date\n",
              "0   2011     1       31    3073       35116   38189   2011-1\n",
              "1   2011     2       28    6242       41973   48215   2011-2\n",
              "2   2011     3       31   12826       51219   64045   2011-3\n",
              "3   2011     4       30   22346       72524   94870   2011-4\n",
              "4   2011     5       31   31050      104771  135821   2011-5\n",
              "5   2011     6       30   30612      112900  143512   2011-6\n",
              "6   2011     7       31   36452      104889  141341   2011-7\n",
              "7   2011     8       31   28842      107849  136691   2011-8\n",
              "8   2011     9       30   26545      100873  127418   2011-9\n",
              "9   2011    10       31   25222       98289  123511  2011-10\n",
              "10  2011    11       30   15594       86573  102167  2011-11\n",
              "11  2011    12       31    8448       78875   87323  2011-12\n",
              "12  2012     1       31    8969       87775   96744   2012-1\n",
              "13  2012     2       29    8721       94416  103137   2012-2\n",
              "14  2012     3       31   31618      133257  164875   2012-3\n",
              "15  2012     4       30   38456      135768  174224   2012-4\n",
              "16  2012     5       31   44235      151630  195865   2012-5\n",
              "17  2012     6       30   43294      159536  202830   2012-6\n",
              "18  2012     7       31   41705      161902  203607   2012-7\n",
              "19  2012     8       31   43197      171306  214503   2012-8\n",
              "20  2012     9       30   43778      174795  218573   2012-9\n",
              "21  2012    10       31   34538      164303  198841  2012-10\n",
              "22  2012    11       30   21009      131655  152664  2012-11\n",
              "23  2012    12       31   13245      110468  123713  2012-12"
            ]
          },
          "execution_count": 21,
          "metadata": {},
          "output_type": "execute_result"
        }
      ],
      "source": [
        "day_df[\"yr\"] = day_df[\"yr\"].replace({0: 2011, 1: 2012})\n",
        "\n",
        "customerPerMonth = day_df.groupby(by=[\"yr\", \"mnth\"]).agg({\n",
        "    \"instant\" : \"nunique\",\n",
        "    \"casual\" : \"sum\",\n",
        "    \"registered\" : \"sum\",\n",
        "    \"cnt\" : \"sum\"\n",
        "}).reset_index()\n",
        "\n",
        "customerPerMonth[\"date\"] = customerPerMonth[\"yr\"].astype(str) + \"-\" + customerPerMonth[\"mnth\"].astype(str)\n",
        "\n",
        "customerPerMonth"
      ]
    },
    {
      "cell_type": "markdown",
      "metadata": {
        "id": "cXPdlWcZc67s"
      },
      "source": [
        "**Mengelompokkan data berdasarkan kolom weathersit pada tabel Day**"
      ]
    },
    {
      "cell_type": "code",
      "execution_count": 22,
      "metadata": {
        "colab": {
          "base_uri": "https://localhost:8080/",
          "height": 0
        },
        "id": "FbLJKtqVdQnK",
        "outputId": "2fc223e8-7916-45c5-dfb9-25db54f2cb11"
      },
      "outputs": [
        {
          "data": {
            "text/plain": [
              "weathersit\n",
              "1    463\n",
              "2    247\n",
              "3     21\n",
              "Name: instant, dtype: int64"
            ]
          },
          "execution_count": 22,
          "metadata": {},
          "output_type": "execute_result"
        }
      ],
      "source": [
        "day_df.groupby(by=\"weathersit\").instant.nunique()"
      ]
    },
    {
      "cell_type": "markdown",
      "metadata": {
        "id": "o2Kr2tuzcdG3"
      },
      "source": [
        "**Insight:**\n",
        "*   Dapat kita lihat bahwa pada tabel Day, weathersit atau cuaca sangat mempengaruhi jumlah pengguna layanan Bike Sharing"
      ]
    },
    {
      "cell_type": "markdown",
      "metadata": {
        "id": "zsyZjqak8DC2"
      },
      "source": [
        "## Visualization & Explanatory Analysis"
      ]
    },
    {
      "cell_type": "markdown",
      "metadata": {
        "id": "Ag6II9qlH1Qw"
      },
      "source": [
        "### Pertanyaan 1: Bagaimana tren pengguna layanan bike rental dari tahun 2011 hingga 2012?"
      ]
    },
    {
      "cell_type": "code",
      "execution_count": 23,
      "metadata": {},
      "outputs": [
        {
          "data": {
            "image/png": "[encoded data removed]",
            "text/plain": [
              "<Figure size 1200x500 with 1 Axes>"
            ]
          },
          "metadata": {},
          "output_type": "display_data"
        }
      ],
      "source": [
        "plt.figure(figsize=(12, 5))\n",
        "plt.ylim(0, customerPerMonth[\"cnt\"].max() * 1.1)\n",
        "plt.plot(customerPerMonth[\"date\"], customerPerMonth[\"cnt\"], marker='o', linewidth=2, color=\"#72BCD4\")\n",
        "plt.title(\"Banyak Transaksi Bike Sharing 2011-2012 per Kuartal\", loc=\"center\", fontsize=20)\n",
        "plt.xticks(fontsize=10)\n",
        "plt.yticks(fontsize=10)\n",
        "plt.show()"
      ]
    },
    {
      "cell_type": "markdown",
      "metadata": {
        "id": "PeOYN5eFc-am"
      },
      "source": [
        "**Dataframe tren pengguna layanan Bike Sharing per jamnya dari 2011 hingga 2012**"
      ]
    },
    {
      "cell_type": "code",
      "execution_count": 24,
      "metadata": {
        "colab": {
          "base_uri": "https://localhost:8080/",
          "height": 261
        },
        "id": "kMvnFvgQH1Qz",
        "outputId": "5fa90fce-a577-4505-c1c6-64f1def703e3"
      },
      "outputs": [
        {
          "name": "stderr",
          "output_type": "stream",
          "text": [
            "C:\\Users\\ASUS\\AppData\\Local\\Temp\\ipykernel_4068\\3478653918.py:1: FutureWarning: 'Q' is deprecated and will be removed in a future version, please use 'QE' instead.\n",
            "  hours_orders_df = hour_df.resample(rule='Q', on='dteday').agg({\n"
          ]
        },
        {
          "data": {
            "text/html": [
              "<div>\n",
              "<style scoped>\n",
              "    .dataframe tbody tr th:only-of-type {\n",
              "        vertical-align: middle;\n",
              "    }\n",
              "\n",
              "    .dataframe tbody tr th {\n",
              "        vertical-align: top;\n",
              "    }\n",
              "\n",
              "    .dataframe thead th {\n",
              "        text-align: right;\n",
              "    }\n",
              "</style>\n",
              "<table border=\"1\" class=\"dataframe\">\n",
              "  <thead>\n",
              "    <tr style=\"text-align: right;\">\n",
              "      <th></th>\n",
              "      <th>dteday</th>\n",
              "      <th>Banyak Data Transaksi</th>\n",
              "      <th>Banyak Sepeda</th>\n",
              "    </tr>\n",
              "  </thead>\n",
              "  <tbody>\n",
              "    <tr>\n",
              "      <th>0</th>\n",
              "      <td>Q1 2011</td>\n",
              "      <td>2067</td>\n",
              "      <td>150449</td>\n",
              "    </tr>\n",
              "    <tr>\n",
              "      <th>1</th>\n",
              "      <td>Q2 2011</td>\n",
              "      <td>2183</td>\n",
              "      <td>374203</td>\n",
              "    </tr>\n",
              "    <tr>\n",
              "      <th>2</th>\n",
              "      <td>Q3 2011</td>\n",
              "      <td>2192</td>\n",
              "      <td>405450</td>\n",
              "    </tr>\n",
              "    <tr>\n",
              "      <th>3</th>\n",
              "      <td>Q4 2011</td>\n",
              "      <td>2203</td>\n",
              "      <td>313001</td>\n",
              "    </tr>\n",
              "    <tr>\n",
              "      <th>4</th>\n",
              "      <td>Q1 2012</td>\n",
              "      <td>2176</td>\n",
              "      <td>364756</td>\n",
              "    </tr>\n",
              "    <tr>\n",
              "      <th>5</th>\n",
              "      <td>Q2 2012</td>\n",
              "      <td>2182</td>\n",
              "      <td>572919</td>\n",
              "    </tr>\n",
              "    <tr>\n",
              "      <th>6</th>\n",
              "      <td>Q3 2012</td>\n",
              "      <td>2208</td>\n",
              "      <td>636683</td>\n",
              "    </tr>\n",
              "    <tr>\n",
              "      <th>7</th>\n",
              "      <td>Q4 2012</td>\n",
              "      <td>2168</td>\n",
              "      <td>475218</td>\n",
              "    </tr>\n",
              "  </tbody>\n",
              "</table>\n",
              "</div>"
            ],
            "text/plain": [
              "    dteday  Banyak Data Transaksi  Banyak Sepeda\n",
              "0  Q1 2011                   2067         150449\n",
              "1  Q2 2011                   2183         374203\n",
              "2  Q3 2011                   2192         405450\n",
              "3  Q4 2011                   2203         313001\n",
              "4  Q1 2012                   2176         364756\n",
              "5  Q2 2012                   2182         572919\n",
              "6  Q3 2012                   2208         636683\n",
              "7  Q4 2012                   2168         475218"
            ]
          },
          "execution_count": 24,
          "metadata": {},
          "output_type": "execute_result"
        }
      ],
      "source": [
        "hours_orders_df = hour_df.resample(rule='Q', on='dteday').agg({\n",
        "    \"instant\": \"nunique\",\n",
        "    \"cnt\": \"sum\"\n",
        "})\n",
        "hours_orders_df.index = hours_orders_df.index.to_period('Q').strftime('Q%q %Y')\n",
        "hours_orders_df = hours_orders_df.reset_index()\n",
        "hours_orders_df.rename(columns={\n",
        "    \"instant\": \"Banyak Data Transaksi\",\n",
        "    \"cnt\": \"Banyak Sepeda\"\n",
        "}, inplace=True)\n",
        "hours_orders_df"
      ]
    },
    {
      "cell_type": "markdown",
      "metadata": {
        "id": "ZSBtPSSbH1Qy"
      },
      "source": [
        "**Diagram tren pengguna layanan Bike Sharing per jamnya dari 2011 hingga 2012**\n"
      ]
    },
    {
      "cell_type": "code",
      "execution_count": 25,
      "metadata": {
        "colab": {
          "base_uri": "https://localhost:8080/",
          "height": 499
        },
        "id": "dHfNiiCpKqXH",
        "outputId": "3fbfafd6-8a40-4f5a-cf28-9c8f3abd7b86"
      },
      "outputs": [
        {
          "data": {
            "image/png": "[encoded data removed]",
            "text/plain": [
              "<Figure size 1200x500 with 1 Axes>"
            ]
          },
          "metadata": {},
          "output_type": "display_data"
        }
      ],
      "source": [
        "plt.figure(figsize=(12, 5))\n",
        "plt.ylim(0, hours_orders_df[\"Banyak Sepeda\"].max() * 1.1)\n",
        "plt.plot(hours_orders_df[\"dteday\"], hours_orders_df[\"Banyak Sepeda\"], marker='o', linewidth=2, color=\"#72BCD4\")\n",
        "plt.title(\"Banyak Transaksi Bike Sharing 2011-2012 per Kuartal\", loc=\"center\", fontsize=20)\n",
        "plt.xticks(fontsize=10)\n",
        "plt.yticks(fontsize=10)\n",
        "plt.show()"
      ]
    },
    {
      "cell_type": "markdown",
      "metadata": {
        "id": "POWrF63GdDoK"
      },
      "source": [
        "**Dataframe tren pengguna layanan Bike Sharing per harinya dari 2011 hingga 2012**"
      ]
    },
    {
      "cell_type": "code",
      "execution_count": 26,
      "metadata": {
        "colab": {
          "base_uri": "https://localhost:8080/",
          "height": 261
        },
        "id": "V4H3t8CMH1Q0",
        "outputId": "54feb67a-3fa4-411d-e0d0-d2b9a8bdaecb"
      },
      "outputs": [
        {
          "name": "stderr",
          "output_type": "stream",
          "text": [
            "C:\\Users\\ASUS\\AppData\\Local\\Temp\\ipykernel_4068\\3063793152.py:1: FutureWarning: 'Q' is deprecated and will be removed in a future version, please use 'QE' instead.\n",
            "  days_orders_df = day_df.resample(rule='Q', on='dteday').agg({\n"
          ]
        },
        {
          "data": {
            "text/html": [
              "<div>\n",
              "<style scoped>\n",
              "    .dataframe tbody tr th:only-of-type {\n",
              "        vertical-align: middle;\n",
              "    }\n",
              "\n",
              "    .dataframe tbody tr th {\n",
              "        vertical-align: top;\n",
              "    }\n",
              "\n",
              "    .dataframe thead th {\n",
              "        text-align: right;\n",
              "    }\n",
              "</style>\n",
              "<table border=\"1\" class=\"dataframe\">\n",
              "  <thead>\n",
              "    <tr style=\"text-align: right;\">\n",
              "      <th></th>\n",
              "      <th>dteday</th>\n",
              "      <th>Banyak Data Transaksi</th>\n",
              "      <th>Banyak Sepeda</th>\n",
              "    </tr>\n",
              "  </thead>\n",
              "  <tbody>\n",
              "    <tr>\n",
              "      <th>0</th>\n",
              "      <td>Q1 2011</td>\n",
              "      <td>90</td>\n",
              "      <td>150449</td>\n",
              "    </tr>\n",
              "    <tr>\n",
              "      <th>1</th>\n",
              "      <td>Q2 2011</td>\n",
              "      <td>91</td>\n",
              "      <td>374203</td>\n",
              "    </tr>\n",
              "    <tr>\n",
              "      <th>2</th>\n",
              "      <td>Q3 2011</td>\n",
              "      <td>92</td>\n",
              "      <td>405450</td>\n",
              "    </tr>\n",
              "    <tr>\n",
              "      <th>3</th>\n",
              "      <td>Q4 2011</td>\n",
              "      <td>92</td>\n",
              "      <td>313001</td>\n",
              "    </tr>\n",
              "    <tr>\n",
              "      <th>4</th>\n",
              "      <td>Q1 2012</td>\n",
              "      <td>91</td>\n",
              "      <td>364756</td>\n",
              "    </tr>\n",
              "  </tbody>\n",
              "</table>\n",
              "</div>"
            ],
            "text/plain": [
              "    dteday  Banyak Data Transaksi  Banyak Sepeda\n",
              "0  Q1 2011                     90         150449\n",
              "1  Q2 2011                     91         374203\n",
              "2  Q3 2011                     92         405450\n",
              "3  Q4 2011                     92         313001\n",
              "4  Q1 2012                     91         364756"
            ]
          },
          "execution_count": 26,
          "metadata": {},
          "output_type": "execute_result"
        }
      ],
      "source": [
        "days_orders_df = day_df.resample(rule='Q', on='dteday').agg({\n",
        "    \"instant\": \"nunique\",\n",
        "    \"cnt\": \"sum\"\n",
        "})\n",
        "days_orders_df.index = days_orders_df.index.to_period('Q').strftime('Q%q %Y')\n",
        "days_orders_df = days_orders_df.reset_index()\n",
        "days_orders_df.rename(columns={\n",
        "    \"instant\": \"Banyak Data Transaksi\",\n",
        "    \"cnt\": \"Banyak Sepeda\"\n",
        "}, inplace=True)\n",
        "days_orders_df.head()"
      ]
    },
    {
      "cell_type": "markdown",
      "metadata": {
        "id": "34-AKU7IdSW5"
      },
      "source": [
        "**Diagram tren pengguna layanan Bike Sharing per harinya dari 2011 hingga 2012**"
      ]
    },
    {
      "cell_type": "code",
      "execution_count": 27,
      "metadata": {
        "colab": {
          "base_uri": "https://localhost:8080/",
          "height": 499
        },
        "id": "L1ULomMGda1V",
        "outputId": "54cc6311-0d16-405f-cb7e-3715d8c7275a"
      },
      "outputs": [
        {
          "data": {
            "image/png": "[encoded data removed]",
            "text/plain": [
              "<Figure size 1200x500 with 1 Axes>"
            ]
          },
          "metadata": {},
          "output_type": "display_data"
        }
      ],
      "source": [
        "plt.figure(figsize=(12, 5))\n",
        "plt.ylim(0, days_orders_df[\"Banyak Sepeda\"].max() * 1.1)\n",
        "plt.plot(days_orders_df[\"dteday\"], days_orders_df[\"Banyak Sepeda\"], marker='o', linewidth=2, color=\"#72BCD4\")\n",
        "plt.title(\"Banyak Transaksi Bike Sharing 2011-2012 per hari per Kuartal\", loc=\"center\", fontsize=20)\n",
        "plt.xticks(fontsize=10)\n",
        "plt.yticks(fontsize=10)\n",
        "plt.show()"
      ]
    },
    {
      "cell_type": "markdown",
      "metadata": {
        "id": "oAyJ8-80H1Q1"
      },
      "source": [
        "**Insight:**\n",
        "- Bisa kita lihat dari kedua dataset bahwa terdapat kenaikan data pelanggan yang signifikan sejak tahun 2011 hingga 2012, baik jumlah pesanan per jam ataupun per harinya\n",
        "- Bisa kita lihat juga bahwa terdapat beberapa pola yang mirip di kuartal yang sama. Misalnya, di Q1 ke Q2 di tahun 2011 dan 2012, terdapat kenaikan jumlah pelanggan yang cukup besar. Kemudian, terdapat pula kesamaan pola dari Q3 ke Q4, yaitu adanya penurunan jumlah pesanan"
      ]
    },
    {
      "cell_type": "markdown",
      "metadata": {
        "id": "HZxOiQ6n8DC2"
      },
      "source": [
        "### Pertanyaan 2: Bagaimana pengaruh cuaca terhadap jumlah pengguna layanan bike rental?"
      ]
    },
    {
      "cell_type": "markdown",
      "metadata": {
        "id": "oTFxaWrEBGmS"
      },
      "source": [
        "**Diagram pengguna layanan Bike Sharing per jamnya berdasarkan cuaca**"
      ]
    },
    {
      "cell_type": "code",
      "execution_count": 28,
      "metadata": {
        "colab": {
          "base_uri": "https://localhost:8080/",
          "height": 913
        },
        "id": "1swJUdAD8DC2",
        "outputId": "22ad75bc-dc6c-4445-8079-f7b0542af211"
      },
      "outputs": [
        {
          "name": "stderr",
          "output_type": "stream",
          "text": [
            "C:\\Users\\ASUS\\AppData\\Local\\Temp\\ipykernel_4068\\3067471544.py:19: FutureWarning: \n",
            "\n",
            "Passing `palette` without assigning `hue` is deprecated and will be removed in v0.14.0. Assign the `x` variable to `hue` and set `legend=False` for the same effect.\n",
            "\n",
            "  sns.barplot(\n",
            "C:\\Users\\ASUS\\AppData\\Local\\Temp\\ipykernel_4068\\3067471544.py:19: UserWarning: \n",
            "The palette list has fewer values (1) than needed (3) and will cycle, which may produce an uninterpretable plot.\n",
            "  sns.barplot(\n"
          ]
        },
        {
          "data": {
            "image/png": "[encoded data removed]",
            "text/plain": [
              "<Figure size 1000x700 with 1 Axes>"
            ]
          },
          "metadata": {},
          "output_type": "display_data"
        },
        {
          "name": "stdout",
          "output_type": "stream",
          "text": [
            "3292679\n"
          ]
        }
      ],
      "source": [
        "byweathersit_df = day_df.groupby('weathersit').agg(\n",
        "    customer=('cnt', 'sum'),\n",
        "    instant=('instant', 'nunique')\n",
        ").reset_index()\n",
        "\n",
        "byweathersit_df[\"weathersit\"] = byweathersit_df[\"weathersit\"].replace({\n",
        "    1: \"Cerah\",\n",
        "    2: \"Berkabut\",\n",
        "    3: \"Hujan\",\n",
        "    4: \"Badai\"\n",
        "})\n",
        "\n",
        "weathersit = byweathersit_df[\"weathersit\"]\n",
        "\n",
        "plt.figure(figsize=(10, 7))\n",
        "\n",
        "colors = [\"#000435\"]\n",
        "\n",
        "sns.barplot(\n",
        "    y=\"customer\",\n",
        "    x=\"weathersit\",\n",
        "    data=byweathersit_df.sort_values(by=\"customer\", ascending=False),\n",
        "    palette=colors\n",
        ")\n",
        "plt.title(\"Number of Customer by Weathersit\", loc=\"center\", fontsize=15)\n",
        "plt.ylabel(None)\n",
        "plt.xlabel(None)\n",
        "plt.tick_params(axis='x', labelsize=12)\n",
        "for i, count in enumerate(byweathersit_df[\"customer\"]):\n",
        "    plt.text(weathersit[i], count + 10, str(count), ha='center')\n",
        "\n",
        "plt.show()\n",
        "byweathersit_df.head()\n",
        "print(sum(byweathersit_df[\"customer\"]))"
      ]
    },
    {
      "cell_type": "code",
      "execution_count": 29,
      "metadata": {
        "colab": {
          "base_uri": "https://localhost:8080/",
          "height": 945
        },
        "id": "Go0lCsvO8DC2",
        "outputId": "b7265f94-7438-4537-9ab9-4be24b819244"
      },
      "outputs": [
        {
          "name": "stderr",
          "output_type": "stream",
          "text": [
            "C:\\Users\\ASUS\\AppData\\Local\\Temp\\ipykernel_4068\\1062888391.py:19: FutureWarning: \n",
            "\n",
            "Passing `palette` without assigning `hue` is deprecated and will be removed in v0.14.0. Assign the `x` variable to `hue` and set `legend=False` for the same effect.\n",
            "\n",
            "  sns.barplot(\n",
            "C:\\Users\\ASUS\\AppData\\Local\\Temp\\ipykernel_4068\\1062888391.py:19: UserWarning: \n",
            "The palette list has fewer values (1) than needed (4) and will cycle, which may produce an uninterpretable plot.\n",
            "  sns.barplot(\n"
          ]
        },
        {
          "data": {
            "image/png": "[encoded data removed]",
            "text/plain": [
              "<Figure size 1000x700 with 1 Axes>"
            ]
          },
          "metadata": {},
          "output_type": "display_data"
        },
        {
          "name": "stdout",
          "output_type": "stream",
          "text": [
            "3292679\n"
          ]
        }
      ],
      "source": [
        "byweathersit_df = hour_df.groupby('weathersit').agg(\n",
        "    customer=('cnt', 'sum'),\n",
        "    instant=('instant', 'nunique')\n",
        ").reset_index()\n",
        "\n",
        "byweathersit_df[\"weathersit\"] = byweathersit_df[\"weathersit\"].replace({\n",
        "    1: \"Cerah\",\n",
        "    2: \"Berkabut\",\n",
        "    3: \"Hujan\",\n",
        "    4: \"Badai\"\n",
        "})\n",
        "\n",
        "weathersit = byweathersit_df[\"weathersit\"]\n",
        "\n",
        "plt.figure(figsize=(10, 7))\n",
        "\n",
        "colors = [\"#000435\"]\n",
        "\n",
        "sns.barplot(\n",
        "    y=\"customer\",\n",
        "    x=\"weathersit\",\n",
        "    data=byweathersit_df.sort_values(by=\"customer\", ascending=False),\n",
        "    palette=colors\n",
        ")\n",
        "plt.title(\"Number of customer by Weathersit\", loc=\"center\", fontsize=15)\n",
        "plt.ylabel(None)\n",
        "plt.xlabel(None)\n",
        "plt.tick_params(axis='x', labelsize=12)\n",
        "for i, count in enumerate(byweathersit_df[\"customer\"]):\n",
        "    plt.text(weathersit[i], count + 10, str(count), ha='center')\n",
        "\n",
        "plt.show()\n",
        "byweathersit_df.head()\n",
        "print(sum(byweathersit_df[\"customer\"]))3292679"
      ]
    },
    {
      "cell_type": "code",
      "execution_count": 30,
      "metadata": {},
      "outputs": [
        {
          "name": "stdout",
          "output_type": "stream",
          "text": [
            "<class 'pandas.core.frame.DataFrame'>\n",
            "RangeIndex: 731 entries, 0 to 730\n",
            "Data columns (total 16 columns):\n",
            " #   Column      Non-Null Count  Dtype         \n",
            "---  ------      --------------  -----         \n",
            " 0   instant     731 non-null    int64         \n",
            " 1   dteday      731 non-null    datetime64[ns]\n",
            " 2   season      731 non-null    int64         \n",
            " 3   yr          731 non-null    int64         \n",
            " 4   mnth        731 non-null    int64         \n",
            " 5   holiday     731 non-null    int64         \n",
            " 6   weekday     731 non-null    int64         \n",
            " 7   workingday  731 non-null    int64         \n",
            " 8   weathersit  731 non-null    int64         \n",
            " 9   temp        731 non-null    float64       \n",
            " 10  atemp       731 non-null    float64       \n",
            " 11  hum         731 non-null    float64       \n",
            " 12  windspeed   731 non-null    float64       \n",
            " 13  casual      731 non-null    int64         \n",
            " 14  registered  731 non-null    int64         \n",
            " 15  cnt         731 non-null    int64         \n",
            "dtypes: datetime64[ns](1), float64(4), int64(11)\n",
            "memory usage: 91.5 KB\n"
          ]
        }
      ],
      "source": [
        "day_df.to_csv(\"dashboard/day_data.csv\", index=False)\n",
        "day_df.info()\n",
        "hour_df.to_csv(\"dashboard/hour_data.csv\", index=False)"
      ]
    },
    {
      "cell_type": "markdown",
      "metadata": {
        "id": "_0-36BDLklRg"
      },
      "source": [
        "**Insight:**\n",
        "- Bisa kita lihat ternyata cuaca sangatlah berpengaruh terhadap jumlah pesanan.\n",
        "- Dapat disimpulkan bahwa orang-orang lebih suka bersepeda di cuaca yang cerah."
      ]
    },
    {
      "cell_type": "markdown",
      "metadata": {
        "id": "_WeHlCeX8DC2"
      },
      "source": [
        "## Conclusion"
      ]
    },
    {
      "cell_type": "markdown",
      "metadata": {
        "id": "ZTcyR48Y8DC2"
      },
      "source": [
        "- Dapat kita simpulkan bahwa tren pengguna layanan Bike Sharing cenderung meningkat secara signifikan dari tahun 2011 hingga 2012, di mana jumlah pengguna layanan ini manecapai puncaknya pada kuartal 3 tahun 2012 dengan lebih dari 636.000 sepeda yang tersewa. Sementara titik terendah dari pengguna layanan Bike Sharing ini terdapat di kuartal pertama tahun 2011 dengan lebih dari 150.000 sepeda yang tersewa.\n",
        "- Dapat kita simpulkan bahwa cuaca sangatlah mempengaruhi besarnya pengguna dari layanan Bike Sharing. Bisa dilihat bahwa pengguna layanan Bike Sharing didominasi pada cuaca cerah. Bahkan 71% pengguna melakukan penyewaan di cuaca yang cerah, berbanding terbalik dengan jumlah pengguna layanan Bike Sharing pada cuaca badai yaitu hanya sebesar 0.0067% dari total seluruh pengguna.\n",
        "- Dengan tren pengguna layanan Bike Sharing yang terus meningkat signifikan, maka layanan Bike Sharing bisa menjadi salah satu ide bisnis yang cukup menjanjikan. Tentu saja dibarengi dengan sistem pengelolaan yang baik dari pemilik usaha.\n",
        "- Dalam kurun waktu 2 tahun, tren pengguna layanan Bike Sharing mencapai titik puncaknya di kuartal ketiga setiap tahunnya. Peningkatan kuartal 3 tahun 2011 ke kuartal 3 tahun 2012 mencapai 1.5x lipat! Pencapaian yang luar biasa."
      ]
    }
  ],
  "metadata": {
    "colab": {
      "collapsed_sections": [
        "H-z4QGlO8DC1",
        "h_Sh51Xy8DC1",
        "EhN5R4hr8DC1",
        "gp-Y6wU38DC1",
        "MW7WF2kr8DC1"
      ],
      "provenance": []
    },
    "kernelspec": {
      "display_name": "Python 3",
      "language": "python",
      "name": "python3"
    },
    "language_info": {
      "codemirror_mode": {
        "name": "ipython",
        "version": 3
      },
      "file_extension": ".py",
      "mimetype": "text/x-python",
      "name": "python",
      "nbconvert_exporter": "python",
      "pygments_lexer": "ipython3",
      "version": "3.13.1"
    },
    "orig_nbformat": 4,
    "vscode": {
      "interpreter": {
        "hash": "972b3bf27e332e87b5379f2791f6ef9dfc79c71018c370b0d7423235e20fe4d7"
      }
    }
  },
  "nbformat": 4,
  "nbformat_minor": 0
}
